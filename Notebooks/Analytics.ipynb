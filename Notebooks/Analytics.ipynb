{
 "cells": [
  {
   "cell_type": "code",
   "execution_count": 1,
   "id": "0c72111a",
   "metadata": {},
   "outputs": [],
   "source": [
    "import warnings\n",
    "warnings.filterwarnings(\"ignore\")"
   ]
  },
  {
   "cell_type": "code",
   "execution_count": 95,
   "id": "ea73b22f",
   "metadata": {},
   "outputs": [],
   "source": [
    "import pandas as pd\n",
    "import numpy as np\n",
    "import matplotlib.pyplot as plt\n",
    "import datetime\n",
    "from datetime import datetime\n",
    "import requests\n",
    "import xgboost\n",
    "from xgboost import XGBRegressor\n",
    "import sklearn\n",
    "from sklearn.linear_model import LinearRegression\n",
    "from statsmodels.tsa.arima.model import ARIMA\n",
    "from pmdarima.arima import auto_arima\n",
    "from sklearn.metrics import mean_squared_error, mean_absolute_error\n",
    "from sklearn.preprocessing import PolynomialFeatures, MinMaxScaler\n",
    "from keras.models import Sequential\n",
    "from keras.layers import Dense, LSTM\n",
    "import pandas_datareader as web\n",
    "from dateutil import parser\n",
    "import pickle\n",
    "import requests\n",
    "import joblib\n",
    "from datetime import datetime, timezone, date, timedelta"
   ]
  },
  {
   "cell_type": "markdown",
   "id": "3b223727",
   "metadata": {},
   "source": [
    "# Create Dataframe"
   ]
  },
  {
   "cell_type": "code",
   "execution_count": 107,
   "id": "d40372f4",
   "metadata": {},
   "outputs": [],
   "source": [
    "ticker = \"FB\""
   ]
  },
  {
   "cell_type": "code",
   "execution_count": 108,
   "id": "1881bcc0",
   "metadata": {},
   "outputs": [],
   "source": [
    "url = 'https://stock-price-predictor-af4ea-default-rtdb.firebaseio.com/'\n",
    "ticker_get_url = url + ticker + '.json'"
   ]
  },
  {
   "cell_type": "code",
   "execution_count": 109,
   "id": "cdadc6b4",
   "metadata": {},
   "outputs": [],
   "source": [
    "response = requests.get( ticker_get_url )\n",
    "stock_dict = dict(response.json())"
   ]
  },
  {
   "cell_type": "code",
   "execution_count": 110,
   "id": "04f0a805",
   "metadata": {},
   "outputs": [],
   "source": [
    "df_stock = pd.DataFrame({\n",
    "    \"Date\": stock_dict['Stock Dates'],\n",
    "    \"Stock Close\": stock_dict['Stock Close']\n",
    "})"
   ]
  },
  {
   "cell_type": "code",
   "execution_count": 125,
   "id": "d3d89889",
   "metadata": {},
   "outputs": [
    {
     "data": {
      "text/plain": [
       "True"
      ]
     },
     "execution_count": 125,
     "metadata": {},
     "output_type": "execute_result"
    }
   ],
   "source": [
    "'trailingAnnualDividendYield' not in stock_dict['YF Info'].keys()"
   ]
  },
  {
   "cell_type": "markdown",
   "id": "e9bf9405",
   "metadata": {},
   "source": [
    "# X and Y and Train and Test for Non-NN"
   ]
  },
  {
   "cell_type": "code",
   "execution_count": 111,
   "id": "22c2966f",
   "metadata": {},
   "outputs": [],
   "source": [
    "df_stock['Year'] = [x.split('-')[0] for x in list(df_stock['Date'])]\n",
    "df_stock['Month'] = [x.split('-')[1] for x in list(df_stock['Date'])]\n",
    "df_stock['Day'] = [x.split('-')[2] for x in list(df_stock['Date'])]"
   ]
  },
  {
   "cell_type": "code",
   "execution_count": 112,
   "id": "da4cdb2b",
   "metadata": {},
   "outputs": [],
   "source": [
    "x = df_stock[['Year', 'Month', 'Day']].astype('int')\n",
    "y = df_stock['Stock Close']"
   ]
  },
  {
   "cell_type": "code",
   "execution_count": 113,
   "id": "c706aebd",
   "metadata": {},
   "outputs": [],
   "source": [
    "thresh = int(len(x)*2/3)\n",
    "\n",
    "x_train = x[:thresh]\n",
    "y_train = y[:thresh]\n",
    "\n",
    "x_test = x[thresh:]\n",
    "y_test = y[thresh:]"
   ]
  },
  {
   "cell_type": "markdown",
   "id": "815c31a9",
   "metadata": {},
   "source": [
    "# NN"
   ]
  },
  {
   "cell_type": "code",
   "execution_count": 114,
   "id": "ba382eb1",
   "metadata": {},
   "outputs": [],
   "source": [
    "df_nn = df_stock.copy()\n",
    "df_dates = df_nn[['Year', 'Month', 'Day']]\n",
    "df_nn['Datetime'] = pd.to_datetime(df_dates)"
   ]
  },
  {
   "cell_type": "code",
   "execution_count": 115,
   "id": "efca55e0",
   "metadata": {},
   "outputs": [],
   "source": [
    "df_close = df_nn['Stock Close']\n",
    "np_close = df_close.values"
   ]
  },
  {
   "cell_type": "code",
   "execution_count": 116,
   "id": "7e88ac9d",
   "metadata": {},
   "outputs": [],
   "source": [
    "thresh = int(np.ceil(len(np_close)*.7))"
   ]
  },
  {
   "cell_type": "code",
   "execution_count": 117,
   "id": "c25f9ff1",
   "metadata": {},
   "outputs": [],
   "source": [
    "# scale dataset\n",
    "scaler = MinMaxScaler(feature_range=(0, 1)) \n",
    "scaled_data = scaler.fit_transform(np_close.reshape(-1, 1))"
   ]
  },
  {
   "cell_type": "code",
   "execution_count": 118,
   "id": "87b8b1cf",
   "metadata": {},
   "outputs": [],
   "source": [
    "#Create the scaled training data set \n",
    "train_data = scaled_data[0:thresh]\n",
    "\n",
    "#Split the data into x_train and y_train data sets\n",
    "x_train=[]\n",
    "y_train = []\n",
    "for i in range(60,len(train_data)):\n",
    "    x_train.append(train_data[i-60:i,0])\n",
    "    y_train.append(train_data[i,0])"
   ]
  },
  {
   "cell_type": "code",
   "execution_count": 119,
   "id": "bfb62b05",
   "metadata": {},
   "outputs": [],
   "source": [
    "x_train, y_train = np.array(x_train), np.array(y_train)"
   ]
  },
  {
   "cell_type": "code",
   "execution_count": 120,
   "id": "e05b0946",
   "metadata": {},
   "outputs": [],
   "source": [
    "x_train = np.reshape(x_train, (x_train.shape[0],x_train.shape[1],1))"
   ]
  },
  {
   "cell_type": "code",
   "execution_count": 17,
   "id": "183b985e",
   "metadata": {},
   "outputs": [
    {
     "name": "stdout",
     "output_type": "stream",
     "text": [
      "WARNING:tensorflow:From /opt/anaconda3/lib/python3.7/site-packages/keras/backend/tensorflow_backend.py:66: The name tf.get_default_graph is deprecated. Please use tf.compat.v1.get_default_graph instead.\n",
      "\n",
      "WARNING:tensorflow:From /opt/anaconda3/lib/python3.7/site-packages/keras/backend/tensorflow_backend.py:541: The name tf.placeholder is deprecated. Please use tf.compat.v1.placeholder instead.\n",
      "\n",
      "WARNING:tensorflow:From /opt/anaconda3/lib/python3.7/site-packages/keras/backend/tensorflow_backend.py:4432: The name tf.random_uniform is deprecated. Please use tf.random.uniform instead.\n",
      "\n"
     ]
    }
   ],
   "source": [
    "model = Sequential()\n",
    "model.add(LSTM(units=50, return_sequences=True,input_shape=(x_train.shape[1],1)))\n",
    "model.add(LSTM(units=50, return_sequences=False))\n",
    "model.add(Dense(units=25))\n",
    "model.add(Dense(units=1))"
   ]
  },
  {
   "cell_type": "code",
   "execution_count": 18,
   "id": "03c73b0b",
   "metadata": {},
   "outputs": [
    {
     "name": "stdout",
     "output_type": "stream",
     "text": [
      "WARNING:tensorflow:From /opt/anaconda3/lib/python3.7/site-packages/keras/optimizers.py:793: The name tf.train.Optimizer is deprecated. Please use tf.compat.v1.train.Optimizer instead.\n",
      "\n"
     ]
    }
   ],
   "source": [
    "model.compile(optimizer='adam', loss='mean_squared_error')"
   ]
  },
  {
   "cell_type": "code",
   "execution_count": 19,
   "id": "9e607ddc",
   "metadata": {},
   "outputs": [
    {
     "name": "stdout",
     "output_type": "stream",
     "text": [
      "WARNING:tensorflow:From /opt/anaconda3/lib/python3.7/site-packages/tensorflow/python/ops/math_grad.py:1250: add_dispatch_support.<locals>.wrapper (from tensorflow.python.ops.array_ops) is deprecated and will be removed in a future version.\n",
      "Instructions for updating:\n",
      "Use tf.where in 2.0, which has the same broadcast rule as np.where\n",
      "WARNING:tensorflow:From /opt/anaconda3/lib/python3.7/site-packages/keras/backend/tensorflow_backend.py:1033: The name tf.assign_add is deprecated. Please use tf.compat.v1.assign_add instead.\n",
      "\n",
      "WARNING:tensorflow:From /opt/anaconda3/lib/python3.7/site-packages/keras/backend/tensorflow_backend.py:1020: The name tf.assign is deprecated. Please use tf.compat.v1.assign instead.\n",
      "\n",
      "Epoch 1/1\n",
      "822/822 [==============================] - 58s 70ms/step - loss: 8.2931e-04\n"
     ]
    },
    {
     "data": {
      "text/plain": [
       "<keras.callbacks.History at 0x7fb58a9d7dd0>"
      ]
     },
     "execution_count": 19,
     "metadata": {},
     "output_type": "execute_result"
    }
   ],
   "source": [
    "model.fit(x_train, y_train, batch_size=1, epochs=1)"
   ]
  },
  {
   "cell_type": "code",
   "execution_count": 20,
   "id": "dde82c25",
   "metadata": {},
   "outputs": [],
   "source": [
    "test_data = scaled_data[thresh - 60: , : ]"
   ]
  },
  {
   "cell_type": "code",
   "execution_count": 21,
   "id": "10c984f5",
   "metadata": {},
   "outputs": [],
   "source": [
    "x_test = []\n",
    "y_test = np_close[thresh:]\n",
    "for i in range(60,len(test_data)):\n",
    "    x_test.append(test_data[i-60:i,0])"
   ]
  },
  {
   "cell_type": "code",
   "execution_count": 22,
   "id": "9217920e",
   "metadata": {},
   "outputs": [],
   "source": [
    "x_test = np.array(x_test)\n",
    "x_test = np.reshape(x_test, (x_test.shape[0],x_test.shape[1],1))"
   ]
  },
  {
   "cell_type": "code",
   "execution_count": 23,
   "id": "34a8b975",
   "metadata": {},
   "outputs": [],
   "source": [
    "predictions = model.predict(x_test) \n",
    "predictions = scaler.inverse_transform(predictions)"
   ]
  },
  {
   "cell_type": "code",
   "execution_count": 24,
   "id": "2e310fab",
   "metadata": {},
   "outputs": [
    {
     "data": {
      "text/plain": [
       "30.29016354801612"
      ]
     },
     "execution_count": 24,
     "metadata": {},
     "output_type": "execute_result"
    }
   ],
   "source": [
    "rmse = np.sqrt(np.mean(((predictions - y_test)**2)))\n",
    "rmse"
   ]
  },
  {
   "cell_type": "code",
   "execution_count": 25,
   "id": "878b5340",
   "metadata": {
    "scrolled": false
   },
   "outputs": [
    {
     "data": {
      "image/png": "[encoded data removed]",
      "text/plain": [
       "<Figure size 1152x576 with 1 Axes>"
      ]
     },
     "metadata": {
      "needs_background": "light"
     },
     "output_type": "display_data"
    }
   ],
   "source": [
    "train = df_close[:thresh]\n",
    "valid = df_close[thresh:]\n",
    "\n",
    "valid['Predictions'] = predictions\n",
    "\n",
    "#Visualize the data\n",
    "plt.figure(figsize=(16,8))\n",
    "plt.title('Model')\n",
    "plt.xlabel('Date', fontsize=18)\n",
    "plt.ylabel('Close Price USD ($)', fontsize=18)\n",
    "plt.plot(df_nn['Datetime'], df_nn['Stock Close'])\n",
    "plt.plot(df_nn['Datetime'][thresh:], predictions)\n",
    "plt.legend(['Train', 'Val', 'Predictions'], loc='lower right')\n",
    "plt.show()"
   ]
  },
  {
   "cell_type": "markdown",
   "id": "09949052",
   "metadata": {},
   "source": [
    "## Dump Scaler and Model"
   ]
  },
  {
   "cell_type": "code",
   "execution_count": 26,
   "id": "d3a87154",
   "metadata": {},
   "outputs": [],
   "source": [
    "# pickle.dump(model, open('../Models/aapl_model', 'wb'))\n",
    "# joblib.dump(scaler, '../Models/aapl_scaler') "
   ]
  },
  {
   "cell_type": "code",
   "execution_count": 65,
   "id": "c78a1c7a",
   "metadata": {},
   "outputs": [],
   "source": [
    "# loaded_model = pickle.load(open('../Models/aapl_model', 'rb'))\n",
    "# scaler = joblib.load('../Models/aapl_scaler')"
   ]
  },
  {
   "cell_type": "markdown",
   "id": "19c52e88",
   "metadata": {},
   "source": [
    "## Forecast 7 Days Ahead"
   ]
  },
  {
   "cell_type": "code",
   "execution_count": 65,
   "id": "ef6d84bd",
   "metadata": {},
   "outputs": [],
   "source": [
    "running_60_days = list(scaled_data[len(df_stock)-60:].reshape(-1))"
   ]
  },
  {
   "cell_type": "code",
   "execution_count": 72,
   "id": "97e63701",
   "metadata": {},
   "outputs": [],
   "source": [
    "for i in range(0, 7):\n",
    "    running_np = np.array(running_60_days).reshape(1,-1,1)\n",
    "    next_day = model.predict(running_np)[0][0]\n",
    "    running_60_days.pop(0)\n",
    "    running_60_days.append(next_day)"
   ]
  },
  {
   "cell_type": "code",
   "execution_count": 77,
   "id": "59c26b57",
   "metadata": {},
   "outputs": [],
   "source": [
    "next_seven_days = scaler.inverse_transform(np.array(running_60_days[len(running_60_days)-7:]).reshape(-1,1))"
   ]
  },
  {
   "cell_type": "code",
   "execution_count": 79,
   "id": "1a4cb904",
   "metadata": {},
   "outputs": [],
   "source": [
    "next_seven_days = list(next_seven_days.reshape(-1))"
   ]
  },
  {
   "cell_type": "code",
   "execution_count": 81,
   "id": "9dbeb156",
   "metadata": {},
   "outputs": [
    {
     "data": {
      "text/plain": [
       "[180.05377, 183.48718, 187.53987, 192.00955, 196.76984, 201.7412, 206.87213]"
      ]
     },
     "execution_count": 81,
     "metadata": {},
     "output_type": "execute_result"
    }
   ],
   "source": [
    "next_seven_days"
   ]
  },
  {
   "cell_type": "markdown",
   "id": "c4a98e2f",
   "metadata": {},
   "source": [
    "# XGBoost"
   ]
  },
  {
   "cell_type": "code",
   "execution_count": 162,
   "id": "455471a3",
   "metadata": {},
   "outputs": [],
   "source": [
    "# model_xgboost = XGBRegressor()\n",
    "# model_xgboost.fit(x_train, y_train)\n",
    "\n",
    "# pred_results = list(model.predict(x_test))\n",
    "\n",
    "# datetime_dates = [datetime(int(x.split('-')[0]), int(x.split('-')[1]), int(x.split('-')[2])) \n",
    "#                   for x in list(df_stock['Date'])]\n",
    "\n",
    "# plt.plot(datetime_dates, y)\n",
    "# plt.plot(datetime_dates[thresh:], pred_results)"
   ]
  },
  {
   "cell_type": "markdown",
   "id": "04ec3cb2",
   "metadata": {},
   "source": [
    "# ARIMA"
   ]
  },
  {
   "cell_type": "code",
   "execution_count": 166,
   "id": "33bbc2f6",
   "metadata": {},
   "outputs": [],
   "source": [
    "# arima_train = y_train\n",
    "# arima_test = y_test\n",
    "\n",
    "# model = auto_arima(arima_train, trace=True, error_action='ignore', suppress_warnings=True)\n",
    "# model.fit(arima_train)\n",
    "# forecast = model.predict(n_periods=len(arima_test))\n",
    "\n",
    "# plt.plot(datetime_dates, y)\n",
    "# plt.plot(datetime_dates[thresh:], forecast)"
   ]
  },
  {
   "cell_type": "markdown",
   "id": "f9f442bb",
   "metadata": {},
   "source": [
    "# Linear Regression"
   ]
  },
  {
   "cell_type": "code",
   "execution_count": 43,
   "id": "3258547a",
   "metadata": {},
   "outputs": [
    {
     "data": {
      "text/plain": [
       "LinearRegression()"
      ]
     },
     "execution_count": 43,
     "metadata": {},
     "output_type": "execute_result"
    }
   ],
   "source": [
    "# poly_reg = PolynomialFeatures(degree=5)\n",
    "# x_poly_train = poly_reg.fit_transform(x_train)\n",
    "# x_poly_test = poly_reg.fit_transform(x_test)\n",
    "# model_reg = LinearRegression()\n",
    "# model_reg.fit(x_poly_train, y_train)\n",
    "\n",
    "# pred_results = model_reg.predict(x_poly_test)\n",
    "\n",
    "# plt.plot(datetime_dates, y)\n",
    "# plt.plot(datetime_dates[thresh:], pred_results)"
   ]
  },
  {
   "cell_type": "markdown",
   "id": "3e22f4c2",
   "metadata": {},
   "source": [
    "# Other Stuff to Test Code"
   ]
  },
  {
   "cell_type": "code",
   "execution_count": 41,
   "id": "d2231896",
   "metadata": {},
   "outputs": [],
   "source": [
    "ticker = \"DKNG\"\n",
    "url = 'https://stock-price-predictor-af4ea-default-rtdb.firebaseio.com/'\n",
    "ticker_get_url = url + ticker + '.json'"
   ]
  },
  {
   "cell_type": "code",
   "execution_count": 42,
   "id": "35b9b072",
   "metadata": {},
   "outputs": [],
   "source": [
    "response = requests.get( ticker_get_url )\n",
    "stock_dict = dict(response.json())"
   ]
  },
  {
   "cell_type": "code",
   "execution_count": 145,
   "id": "54dc53b9",
   "metadata": {},
   "outputs": [
    {
     "data": {
      "text/plain": [
       "[{'link': 'https://finance.yahoo.com/news/twitter-taps-cto-agrawal-revive-011634289.html',\n",
       "  'providerPublishTime': 1638234994,\n",
       "  'publisher': 'Bloomberg',\n",
       "  'title': 'Twitter Taps CTO Agrawal to Revive Product Focus Dorsey Lacked',\n",
       "  'type': 'STORY',\n",
       "  'uuid': '32e76bd3-dc91-324c-9153-9fa4c7c2b4de'},\n",
       " {'link': 'https://finance.yahoo.com/m/5f695c14-bc91-363c-995e-e994c1f0807e/these-are-the-5-best-stocks.html',\n",
       "  'providerPublishTime': 1638229024,\n",
       "  'publisher': \"Investor's Business Daily\",\n",
       "  'title': 'These Are The 5 Best Stocks To Buy And Watch Now',\n",
       "  'type': 'STORY',\n",
       "  'uuid': '5f695c14-bc91-363c-995e-e994c1f0807e'},\n",
       " {'link': 'https://finance.yahoo.com/m/e5eaed8d-72af-389b-a687-bb06160b8342/here%27s-how-metaverse.html',\n",
       "  'providerPublishTime': 1638225894,\n",
       "  'publisher': 'Motley Fool',\n",
       "  'title': \"Here's How Metaverse Shenanigans Pushed Meta Higher on Monday\",\n",
       "  'type': 'STORY',\n",
       "  'uuid': 'e5eaed8d-72af-389b-a687-bb06160b8342'},\n",
       " {'link': 'https://finance.yahoo.com/m/ef2d813c-d4a5-3a3f-a25e-a9fe5a3e0c12/facebook-planted-the-idea-of.html',\n",
       "  'providerPublishTime': 1638223908,\n",
       "  'publisher': 'Quartz',\n",
       "  'title': 'Facebook planted the idea of the metaverse but Apple can actually populate it',\n",
       "  'type': 'STORY',\n",
       "  'uuid': 'ef2d813c-d4a5-3a3f-a25e-a9fe5a3e0c12'},\n",
       " {'link': 'https://finance.yahoo.com/m/a25fdf38-41fd-3dee-b3af-2d6eaf16eae4/meta-postpones-ticker-symbol.html',\n",
       "  'providerPublishTime': 1638221514,\n",
       "  'publisher': 'MarketWatch',\n",
       "  'title': 'Meta postpones ticker symbol change to next year',\n",
       "  'type': 'STORY',\n",
       "  'uuid': 'a25fdf38-41fd-3dee-b3af-2d6eaf16eae4'}]"
      ]
     },
     "execution_count": 145,
     "metadata": {},
     "output_type": "execute_result"
    }
   ],
   "source": [
    "stock_dict['YF News']"
   ]
  },
  {
   "cell_type": "code",
   "execution_count": 48,
   "id": "dab90adb",
   "metadata": {},
   "outputs": [
    {
     "data": {
      "text/plain": [
       "dict_keys(['Last-Update', 'Stock Close', 'Stock Dates', 'Stock Financials', 'Stock High', 'Stock Info', 'Stock Low', 'Stock Meta', 'Stock Open', 'Stock Volume', 'Ticker', 'YF Info', 'YF News'])"
      ]
     },
     "execution_count": 48,
     "metadata": {},
     "output_type": "execute_result"
    }
   ],
   "source": [
    "stock_dict.keys()"
   ]
  },
  {
   "cell_type": "code",
   "execution_count": 49,
   "id": "a88ed250",
   "metadata": {},
   "outputs": [
    {
     "data": {
      "text/plain": [
       "{'52WeekChange': -0.3116883,\n",
       " 'SandP52WeekChange': 0.26866078,\n",
       " 'address1': '222 Berkeley Street',\n",
       " 'address2': '5th Floor',\n",
       " 'ask': 35.23,\n",
       " 'askSize': 3000,\n",
       " 'averageDailyVolume10Day': 15202100,\n",
       " 'averageVolume': 13665582,\n",
       " 'averageVolume10days': 15202100,\n",
       " 'beta': 1.913443,\n",
       " 'bid': 35.18,\n",
       " 'bidSize': 1300,\n",
       " 'bookValue': 4.505,\n",
       " 'city': 'Boston',\n",
       " 'country': 'United States',\n",
       " 'currency': 'USD',\n",
       " 'currentPrice': 35.2,\n",
       " 'currentRatio': 3.176,\n",
       " 'dateShortInterest': 1636934400,\n",
       " 'dayHigh': 36.57,\n",
       " 'dayLow': 34.525,\n",
       " 'debtToEquity': 72.381,\n",
       " 'ebitda': -1281048064,\n",
       " 'ebitdaMargins': -1.11889,\n",
       " 'enterpriseToEbitda': -10.597,\n",
       " 'enterpriseToRevenue': 11.857,\n",
       " 'enterpriseValue': 13575500800,\n",
       " 'exchange': 'NMS',\n",
       " 'exchangeTimezoneName': 'America/New_York',\n",
       " 'exchangeTimezoneShortName': 'EST',\n",
       " 'fiftyDayAverage': 46.335,\n",
       " 'fiftyTwoWeekHigh': 74.38,\n",
       " 'fiftyTwoWeekLow': 34.42,\n",
       " 'financialCurrency': 'USD',\n",
       " 'floatShares': 354020580,\n",
       " 'forwardEps': -2.42,\n",
       " 'forwardPE': -14.545454,\n",
       " 'freeCashflow': -3362875,\n",
       " 'fullTimeEmployees': 2600,\n",
       " 'gmtOffSetMilliseconds': '-18000000',\n",
       " 'grossMargins': 0.38838002,\n",
       " 'grossProfits': 267943000,\n",
       " 'heldPercentInsiders': 0.07453,\n",
       " 'heldPercentInstitutions': 0.62131,\n",
       " 'industry': 'Gambling',\n",
       " 'isEsgPopulated': False,\n",
       " 'lastFiscalYearEnd': 1609372800,\n",
       " 'logo_url': 'https://logo.clearbit.com/draftkings.com',\n",
       " 'longBusinessSummary': 'DraftKings Inc. operates as a digital sports entertainment and gaming company in the United States. It operates through two segments, Business-to-Consumer and Business-to-Business. The company provides users with daily sports, sports betting, and iGaming opportunities. It is also involved in the design, development, and licensing of sports betting and casino gaming platform software for online and retail sportsbook, and casino gaming products. The company distributes its product offerings through various channels, including traditional websites and direct app downloads, as well as direct-to-consumer digital platforms, such as the Apple App store and the Google Play store. DraftKings Inc. was founded in 2011 and is headquartered in Boston, Massachusetts.',\n",
       " 'longName': 'DraftKings Inc.',\n",
       " 'market': 'us_market',\n",
       " 'marketCap': 14307145728,\n",
       " 'maxAge': 1,\n",
       " 'messageBoardId': 'finmb_648976269',\n",
       " 'mostRecentQuarter': 1632960000,\n",
       " 'netIncomeToCommon': -1439593984,\n",
       " 'nextFiscalYearEnd': 1672444800,\n",
       " 'numberOfAnalystOpinions': 25,\n",
       " 'open': 36.45,\n",
       " 'operatingCashflow': -457276992,\n",
       " 'operatingMargins': -1.22025,\n",
       " 'payoutRatio': 0,\n",
       " 'pegRatio': 1.49,\n",
       " 'phone': '617 986 6744',\n",
       " 'preMarketPrice': 36.5,\n",
       " 'previousClose': 36.04,\n",
       " 'priceHint': 2,\n",
       " 'priceToBook': 7.8135405,\n",
       " 'priceToSalesTrailing12Months': 12.496164,\n",
       " 'profitMargins': -1.25737,\n",
       " 'quickRatio': 2.596,\n",
       " 'quoteType': 'EQUITY',\n",
       " 'recommendationKey': 'buy',\n",
       " 'recommendationMean': 2.2,\n",
       " 'regularMarketDayHigh': 36.57,\n",
       " 'regularMarketDayLow': 34.525,\n",
       " 'regularMarketOpen': 36.45,\n",
       " 'regularMarketPreviousClose': 36.04,\n",
       " 'regularMarketPrice': 35.2,\n",
       " 'regularMarketVolume': 13695828,\n",
       " 'returnOnAssets': -0.25585,\n",
       " 'returnOnEquity': -0.75352997,\n",
       " 'revenueGrowth': 0.602,\n",
       " 'revenuePerShare': 2.877,\n",
       " 'sector': 'Consumer Cyclical',\n",
       " 'sharesOutstanding': 406452992,\n",
       " 'sharesPercentSharesOut': 0.090500005,\n",
       " 'sharesShort': 36794368,\n",
       " 'sharesShortPreviousMonthDate': 1634256000,\n",
       " 'sharesShortPriorMonth': 33059754,\n",
       " 'shortName': 'DraftKings Inc.',\n",
       " 'shortPercentOfFloat': 0.1102,\n",
       " 'shortRatio': 2.39,\n",
       " 'state': 'MA',\n",
       " 'symbol': 'DKNG',\n",
       " 'targetHighPrice': 105,\n",
       " 'targetLowPrice': 34,\n",
       " 'targetMeanPrice': 64.06,\n",
       " 'targetMedianPrice': 66,\n",
       " 'totalCash': 2394864896,\n",
       " 'totalCashPerShare': 5.892,\n",
       " 'totalDebt': 1321799040,\n",
       " 'totalRevenue': 1144923008,\n",
       " 'tradeable': False,\n",
       " 'trailingEps': -3.618,\n",
       " 'twoHundredDayAverage': 53.16175,\n",
       " 'volume': 13695828,\n",
       " 'website': 'http://www.draftkings.com',\n",
       " 'zip': '02116'}"
      ]
     },
     "execution_count": 49,
     "metadata": {},
     "output_type": "execute_result"
    }
   ],
   "source": [
    "stock_dict['YF Info']['exchange']"
   ]
  },
  {
   "cell_type": "code",
   "execution_count": 53,
   "id": "ca308604",
   "metadata": {},
   "outputs": [
    {
     "data": {
      "text/plain": [
       "'United States'"
      ]
     },
     "execution_count": 53,
     "metadata": {},
     "output_type": "execute_result"
    }
   ],
   "source": [
    "stock_dict['YF Info']['country']"
   ]
  },
  {
   "cell_type": "code",
   "execution_count": 64,
   "id": "e9e6e28b",
   "metadata": {},
   "outputs": [
    {
     "ename": "KeyError",
     "evalue": "'trailingPE'",
     "output_type": "error",
     "traceback": [
      "\u001b[0;31m---------------------------------------------------------------------------\u001b[0m",
      "\u001b[0;31mKeyError\u001b[0m                                  Traceback (most recent call last)",
      "\u001b[0;32m<ipython-input-64-acdf2dd3b5dc>\u001b[0m in \u001b[0;36m<module>\u001b[0;34m\u001b[0m\n\u001b[0;32m----> 1\u001b[0;31m \u001b[0mstock_dict\u001b[0m\u001b[0;34m[\u001b[0m\u001b[0;34m'YF Info'\u001b[0m\u001b[0;34m]\u001b[0m\u001b[0;34m[\u001b[0m\u001b[0;34m'trailingPE'\u001b[0m\u001b[0;34m]\u001b[0m\u001b[0;34m\u001b[0m\u001b[0;34m\u001b[0m\u001b[0m\n\u001b[0m",
      "\u001b[0;31mKeyError\u001b[0m: 'trailingPE'"
     ]
    }
   ],
   "source": [
    "stock_dict['YF Info']['trailingPE']"
   ]
  },
  {
   "cell_type": "code",
   "execution_count": 50,
   "id": "9fa53caf",
   "metadata": {},
   "outputs": [
    {
     "data": {
      "text/plain": [
       "{'chartPreviousClose': 9.8,\n",
       " 'currency': 'USD',\n",
       " 'currentTradingPeriod': {'post': {'end': 1638234000,\n",
       "   'gmtoffset': -18000,\n",
       "   'start': 1638219600,\n",
       "   'timezone': 'EST'},\n",
       "  'pre': {'end': 1638196200,\n",
       "   'gmtoffset': -18000,\n",
       "   'start': 1638176400,\n",
       "   'timezone': 'EST'},\n",
       "  'regular': {'end': 1638219600,\n",
       "   'gmtoffset': -18000,\n",
       "   'start': 1638196200,\n",
       "   'timezone': 'EST'}},\n",
       " 'dataGranularity': '1d',\n",
       " 'exchangeName': 'NMS',\n",
       " 'exchangeTimezoneName': 'America/New_York',\n",
       " 'firstTradeDate': 1564061400,\n",
       " 'gmtoffset': -18000,\n",
       " 'instrumentType': 'EQUITY',\n",
       " 'priceHint': 2,\n",
       " 'range': '5y',\n",
       " 'regularMarketPrice': 35.2,\n",
       " 'regularMarketTime': 1638219603,\n",
       " 'symbol': 'DKNG',\n",
       " 'timezone': 'EST',\n",
       " 'validRanges': ['1d',\n",
       "  '5d',\n",
       "  '1mo',\n",
       "  '3mo',\n",
       "  '6mo',\n",
       "  '1y',\n",
       "  '2y',\n",
       "  '5y',\n",
       "  'ytd',\n",
       "  'max']}"
      ]
     },
     "execution_count": 50,
     "metadata": {},
     "output_type": "execute_result"
    }
   ],
   "source": [
    "stock_dict['Stock Meta']"
   ]
  },
  {
   "cell_type": "code",
   "execution_count": 87,
   "id": "cd190140",
   "metadata": {},
   "outputs": [],
   "source": [
    "split_today = '2021-12-29'.split('-')\n",
    "split_today = [int(x) for x in split_today]"
   ]
  },
  {
   "cell_type": "code",
   "execution_count": 90,
   "id": "af329b40",
   "metadata": {},
   "outputs": [],
   "source": [
    "datetime_today = datetime(split_today[0], split_today[1], split_today[2])"
   ]
  },
  {
   "cell_type": "code",
   "execution_count": 103,
   "id": "61d40330",
   "metadata": {},
   "outputs": [],
   "source": [
    "seven_dates = []\n",
    "datetime_today = datetime.now() + timedelta(days=1)\n",
    "count = 0\n",
    "while(count < 7):\n",
    "    if datetime_today.weekday() not in [5, 6]:\n",
    "        date_str = (str(datetime_today.year) + '-' + \n",
    "                    str(datetime_today.month) + '-' + str(datetime_today.day))\n",
    "        seven_dates.append(date_str)\n",
    "        count = count + 1\n",
    "    datetime_today = datetime_today + timedelta(days=1)"
   ]
  },
  {
   "cell_type": "code",
   "execution_count": 106,
   "id": "874e2611",
   "metadata": {},
   "outputs": [
    {
     "data": {
      "text/plain": [
       "'2021-11-30'"
      ]
     },
     "execution_count": 106,
     "metadata": {},
     "output_type": "execute_result"
    }
   ],
   "source": [
    "seven_dates[0]"
   ]
  },
  {
   "cell_type": "code",
   "execution_count": null,
   "id": "04bbc358",
   "metadata": {},
   "outputs": [],
   "source": []
  }
 ],
 "metadata": {
  "kernelspec": {
   "display_name": "Python 3",
   "language": "python",
   "name": "python3"
  },
  "language_info": {
   "codemirror_mode": {
    "name": "ipython",
    "version": 3
   },
   "file_extension": ".py",
   "mimetype": "text/x-python",
   "name": "python",
   "nbconvert_exporter": "python",
   "pygments_lexer": "ipython3",
   "version": "3.7.4"
  }
 },
 "nbformat": 4,
 "nbformat_minor": 5
}
