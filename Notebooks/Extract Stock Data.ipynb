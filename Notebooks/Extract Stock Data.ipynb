{
 "cells": [
  {
   "cell_type": "code",
   "execution_count": 1,
   "id": "a93b0308",
   "metadata": {},
   "outputs": [],
   "source": [
    "import pandas as pd\n",
    "import requests\n",
    "import datetime\n",
    "from datetime import datetime, timezone, date, timedelta\n",
    "from dateutil.relativedelta import relativedelta\n",
    "import matplotlib.pyplot as plt\n",
    "import tweepy\n",
    "import json\n",
    "import yfinance as yf\n",
    "import numpy as np\n",
    "from tqdm import tqdm"
   ]
  },
  {
   "cell_type": "markdown",
   "id": "01903371",
   "metadata": {},
   "source": [
    "# Get Tickers"
   ]
  },
  {
   "cell_type": "markdown",
   "id": "5e8d61a6",
   "metadata": {},
   "source": [
    "### NYSE"
   ]
  },
  {
   "cell_type": "code",
   "execution_count": 2,
   "id": "f2c36acd",
   "metadata": {},
   "outputs": [],
   "source": [
    "# ticker_response = requests.get('https://api.polygon.io/v3/reference/tickers?'\n",
    "#                                + 'exchange=XNYS' + '&active=true' + '&market=stocks' + '&sort=ticker' + '&order=asc'\n",
    "#                                + '&limit=1000' + '&apiKey=' + api_key)"
   ]
  },
  {
   "cell_type": "code",
   "execution_count": 3,
   "id": "0de3206a",
   "metadata": {
    "scrolled": true
   },
   "outputs": [],
   "source": [
    "# ticker_response.json()"
   ]
  },
  {
   "cell_type": "markdown",
   "id": "5c8b4a63",
   "metadata": {},
   "source": [
    "### NASDAQ"
   ]
  },
  {
   "cell_type": "code",
   "execution_count": 4,
   "id": "fe0e6fa1",
   "metadata": {},
   "outputs": [],
   "source": [
    "# ticker_response = requests.get('https://api.polygon.io/v3/reference/tickers?'\n",
    "#                                + 'exchange=XNAS' + '&active=true' + '&market=stocks' + '&sort=ticker' + '&order=asc'\n",
    "#                                + '&limit=1000' + '&apiKey=' + api_key)"
   ]
  },
  {
   "cell_type": "code",
   "execution_count": 5,
   "id": "140fa38a",
   "metadata": {},
   "outputs": [],
   "source": [
    "# ticker_response.json()"
   ]
  },
  {
   "cell_type": "markdown",
   "id": "edd47ac7",
   "metadata": {},
   "source": [
    "# Collect Stock Data"
   ]
  },
  {
   "cell_type": "code",
   "execution_count": 6,
   "id": "22e2ec81",
   "metadata": {},
   "outputs": [],
   "source": [
    "ticker = 'AAPL'"
   ]
  },
  {
   "cell_type": "markdown",
   "id": "46c5432b",
   "metadata": {},
   "source": [
    "### Company Information"
   ]
  },
  {
   "cell_type": "code",
   "execution_count": 7,
   "id": "aed4df21",
   "metadata": {},
   "outputs": [],
   "source": [
    "api_key = 'Y4rX3YscZ6FnAuzRIVVWaYzneuZJwlTl'"
   ]
  },
  {
   "cell_type": "code",
   "execution_count": 8,
   "id": "94868ff5",
   "metadata": {},
   "outputs": [],
   "source": [
    "company_response = requests.get('https://api.polygon.io/v1/meta/symbols/' + ticker\n",
    "                               + '/company?apiKey=' + api_key)"
   ]
  },
  {
   "cell_type": "code",
   "execution_count": 9,
   "id": "2428f0e7",
   "metadata": {
    "scrolled": true
   },
   "outputs": [],
   "source": [
    "stock_info = dict(company_response.json())"
   ]
  },
  {
   "cell_type": "markdown",
   "id": "a6aa2520",
   "metadata": {},
   "source": [
    "### Company Financials"
   ]
  },
  {
   "cell_type": "code",
   "execution_count": 372,
   "id": "acdb5fdb",
   "metadata": {},
   "outputs": [],
   "source": [
    "company_response = requests.get('https://api.polygon.io/vX/reference/financials?ticker=' + ticker\n",
    "                                +'&apiKey=' + api_key)"
   ]
  },
  {
   "cell_type": "code",
   "execution_count": 373,
   "id": "28e0f4c3",
   "metadata": {},
   "outputs": [],
   "source": [
    "stock_financials = dict(company_response.json())"
   ]
  },
  {
   "cell_type": "code",
   "execution_count": 523,
   "id": "97b0e089",
   "metadata": {
    "scrolled": false
   },
   "outputs": [
    {
     "data": {
      "text/plain": [
       "81.43"
      ]
     },
     "execution_count": 523,
     "metadata": {},
     "output_type": "execute_result"
    }
   ],
   "source": [
    "np.round(stock_financials['results'][0]['financials']['income_statement']['revenues']['value']/1000000000, 2)"
   ]
  },
  {
   "cell_type": "markdown",
   "id": "8040d3a7",
   "metadata": {},
   "source": [
    "### Stock Price Information"
   ]
  },
  {
   "cell_type": "code",
   "execution_count": 10,
   "id": "a4be2c1d",
   "metadata": {},
   "outputs": [],
   "source": [
    "url = \"https://yh-finance.p.rapidapi.com/stock/v2/get-chart\"\n",
    "\n",
    "querystring = {\"interval\":\"1d\",\"symbol\": ticker,\"range\":\"5y\",\"region\":\"US\"}\n",
    "\n",
    "headers = {\n",
    "    'x-rapidapi-host': \"yh-finance.p.rapidapi.com\",\n",
    "    'x-rapidapi-key': \"a8ff9fd49amsh64d09f9fe39d03fp1de1d0jsn90f0fdef076b\"\n",
    "    }\n",
    "\n",
    "response = requests.request(\"GET\", url, headers=headers, params=querystring)"
   ]
  },
  {
   "cell_type": "code",
   "execution_count": 11,
   "id": "2fc87f06",
   "metadata": {},
   "outputs": [],
   "source": [
    "stock_price_chart = dict(response.json())['chart']['result'][0]"
   ]
  },
  {
   "cell_type": "code",
   "execution_count": 12,
   "id": "98fb68d7",
   "metadata": {},
   "outputs": [],
   "source": [
    "stock_meta = stock_price_chart['meta']"
   ]
  },
  {
   "cell_type": "code",
   "execution_count": 13,
   "id": "8369235c",
   "metadata": {},
   "outputs": [],
   "source": [
    "stock_dates = [datetime.fromtimestamp(x) for x in stock_price_chart['timestamp']]\n",
    "stock_dates = [str(x.year) + '-' + str(x.month) + '-' + str(x.day) for x in stock_dates]"
   ]
  },
  {
   "cell_type": "code",
   "execution_count": 14,
   "id": "982de683",
   "metadata": {},
   "outputs": [],
   "source": [
    "stock_low = stock_price_chart['indicators']['quote'][0]['low']\n",
    "stock_high = stock_price_chart['indicators']['quote'][0]['high']\n",
    "stock_open = stock_price_chart['indicators']['quote'][0]['open']\n",
    "stock_close = stock_price_chart['indicators']['quote'][0]['close']\n",
    "stock_volume = stock_price_chart['indicators']['quote'][0]['volume']"
   ]
  },
  {
   "cell_type": "code",
   "execution_count": 15,
   "id": "7d129371",
   "metadata": {},
   "outputs": [
    {
     "data": {
      "text/html": [
       "<div>\n",
       "<style scoped>\n",
       "    .dataframe tbody tr th:only-of-type {\n",
       "        vertical-align: middle;\n",
       "    }\n",
       "\n",
       "    .dataframe tbody tr th {\n",
       "        vertical-align: top;\n",
       "    }\n",
       "\n",
       "    .dataframe thead th {\n",
       "        text-align: right;\n",
       "    }\n",
       "</style>\n",
       "<table border=\"1\" class=\"dataframe\">\n",
       "  <thead>\n",
       "    <tr style=\"text-align: right;\">\n",
       "      <th></th>\n",
       "      <th>Date</th>\n",
       "      <th>Low</th>\n",
       "      <th>High</th>\n",
       "      <th>Open</th>\n",
       "      <th>Close</th>\n",
       "      <th>Volume</th>\n",
       "    </tr>\n",
       "  </thead>\n",
       "  <tbody>\n",
       "    <tr>\n",
       "      <th>0</th>\n",
       "      <td>2016-12-5</td>\n",
       "      <td>27.062500</td>\n",
       "      <td>27.507500</td>\n",
       "      <td>27.500000</td>\n",
       "      <td>27.277500</td>\n",
       "      <td>137298000</td>\n",
       "    </tr>\n",
       "    <tr>\n",
       "      <th>1</th>\n",
       "      <td>2016-12-6</td>\n",
       "      <td>27.297501</td>\n",
       "      <td>27.590000</td>\n",
       "      <td>27.375000</td>\n",
       "      <td>27.487499</td>\n",
       "      <td>104782000</td>\n",
       "    </tr>\n",
       "    <tr>\n",
       "      <th>2</th>\n",
       "      <td>2016-12-7</td>\n",
       "      <td>27.290001</td>\n",
       "      <td>27.797501</td>\n",
       "      <td>27.315001</td>\n",
       "      <td>27.757500</td>\n",
       "      <td>119994800</td>\n",
       "    </tr>\n",
       "    <tr>\n",
       "      <th>3</th>\n",
       "      <td>2016-12-8</td>\n",
       "      <td>27.650000</td>\n",
       "      <td>28.107500</td>\n",
       "      <td>27.715000</td>\n",
       "      <td>28.030001</td>\n",
       "      <td>108273200</td>\n",
       "    </tr>\n",
       "    <tr>\n",
       "      <th>4</th>\n",
       "      <td>2016-12-9</td>\n",
       "      <td>28.077499</td>\n",
       "      <td>28.674999</td>\n",
       "      <td>28.077499</td>\n",
       "      <td>28.487499</td>\n",
       "      <td>137610400</td>\n",
       "    </tr>\n",
       "    <tr>\n",
       "      <th>...</th>\n",
       "      <td>...</td>\n",
       "      <td>...</td>\n",
       "      <td>...</td>\n",
       "      <td>...</td>\n",
       "      <td>...</td>\n",
       "      <td>...</td>\n",
       "    </tr>\n",
       "    <tr>\n",
       "      <th>1254</th>\n",
       "      <td>2021-11-29</td>\n",
       "      <td>158.789993</td>\n",
       "      <td>161.190002</td>\n",
       "      <td>159.369995</td>\n",
       "      <td>160.240005</td>\n",
       "      <td>88748200</td>\n",
       "    </tr>\n",
       "    <tr>\n",
       "      <th>1255</th>\n",
       "      <td>2021-11-30</td>\n",
       "      <td>159.919998</td>\n",
       "      <td>165.520004</td>\n",
       "      <td>159.990005</td>\n",
       "      <td>165.300003</td>\n",
       "      <td>174048100</td>\n",
       "    </tr>\n",
       "    <tr>\n",
       "      <th>1256</th>\n",
       "      <td>2021-12-1</td>\n",
       "      <td>164.529999</td>\n",
       "      <td>170.300003</td>\n",
       "      <td>167.479996</td>\n",
       "      <td>164.770004</td>\n",
       "      <td>152052500</td>\n",
       "    </tr>\n",
       "    <tr>\n",
       "      <th>1257</th>\n",
       "      <td>2021-12-2</td>\n",
       "      <td>157.800003</td>\n",
       "      <td>164.199997</td>\n",
       "      <td>158.740005</td>\n",
       "      <td>163.759995</td>\n",
       "      <td>136474900</td>\n",
       "    </tr>\n",
       "    <tr>\n",
       "      <th>1258</th>\n",
       "      <td>2021-12-3</td>\n",
       "      <td>160.509995</td>\n",
       "      <td>164.960007</td>\n",
       "      <td>164.020004</td>\n",
       "      <td>161.320007</td>\n",
       "      <td>57189022</td>\n",
       "    </tr>\n",
       "  </tbody>\n",
       "</table>\n",
       "<p>1259 rows × 6 columns</p>\n",
       "</div>"
      ],
      "text/plain": [
       "            Date         Low        High        Open       Close     Volume\n",
       "0      2016-12-5   27.062500   27.507500   27.500000   27.277500  137298000\n",
       "1      2016-12-6   27.297501   27.590000   27.375000   27.487499  104782000\n",
       "2      2016-12-7   27.290001   27.797501   27.315001   27.757500  119994800\n",
       "3      2016-12-8   27.650000   28.107500   27.715000   28.030001  108273200\n",
       "4      2016-12-9   28.077499   28.674999   28.077499   28.487499  137610400\n",
       "...          ...         ...         ...         ...         ...        ...\n",
       "1254  2021-11-29  158.789993  161.190002  159.369995  160.240005   88748200\n",
       "1255  2021-11-30  159.919998  165.520004  159.990005  165.300003  174048100\n",
       "1256   2021-12-1  164.529999  170.300003  167.479996  164.770004  152052500\n",
       "1257   2021-12-2  157.800003  164.199997  158.740005  163.759995  136474900\n",
       "1258   2021-12-3  160.509995  164.960007  164.020004  161.320007   57189022\n",
       "\n",
       "[1259 rows x 6 columns]"
      ]
     },
     "execution_count": 15,
     "metadata": {},
     "output_type": "execute_result"
    }
   ],
   "source": [
    "pd.DataFrame({\n",
    "    'Date': stock_dates,\n",
    "    'Low': stock_low,\n",
    "    'High': stock_high,\n",
    "    'Open': stock_open,\n",
    "    'Close': stock_close,\n",
    "    'Volume': stock_volume\n",
    "})"
   ]
  },
  {
   "cell_type": "code",
   "execution_count": 478,
   "id": "8c198785",
   "metadata": {},
   "outputs": [],
   "source": [
    "update_date = str(datetime.now().year) + '-' + str(datetime.now().month) + '-' + str(datetime.now().day) "
   ]
  },
  {
   "cell_type": "code",
   "execution_count": 479,
   "id": "5f122883",
   "metadata": {},
   "outputs": [],
   "source": [
    "stock_dict = {\n",
    "    \"Ticker\":ticker,\n",
    "    \"Stock Info\": stock_info,\n",
    "    \"Stock Financials\": stock_financials,\n",
    "    \"Stock Meta\":stock_meta,\n",
    "    \"Stock Dates\": stock_dates,\n",
    "    \"Stock Low\": stock_low,\n",
    "    \"Stock High\": stock_high,\n",
    "    \"Stock Open\": stock_open,\n",
    "    \"Stock Close\": stock_close,\n",
    "    \"Stock Volume\": stock_volume,\n",
    "    \"Last-Update\": update_date\n",
    "}"
   ]
  },
  {
   "cell_type": "code",
   "execution_count": 480,
   "id": "e1278d8a",
   "metadata": {},
   "outputs": [],
   "source": [
    "df_stock = pd.DataFrame({\n",
    "    \"Date\": stock_dict[\"Stock Dates\"],\n",
    "    \"Low\": stock_dict[\"Stock Dates\"],\n",
    "    \"High\": stock_dict[\"Stock High\"],\n",
    "    \"Open\": stock_dict[\"Stock Open\"],\n",
    "    \"Close\": stock_dict[\"Stock Close\"],\n",
    "    \"Volume\": stock_dict[\"Stock Volume\"]\n",
    "})"
   ]
  },
  {
   "cell_type": "code",
   "execution_count": 492,
   "id": "307ac91a",
   "metadata": {},
   "outputs": [
    {
     "data": {
      "text/plain": [
       "908.32"
      ]
     },
     "execution_count": 492,
     "metadata": {},
     "output_type": "execute_result"
    }
   ],
   "source": [
    "np.round(stock_dict['Stock Info']['marketcap']/1000000000, 2)"
   ]
  },
  {
   "cell_type": "code",
   "execution_count": 513,
   "id": "a10135fd",
   "metadata": {
    "scrolled": false
   },
   "outputs": [
    {
     "data": {
      "text/plain": [
       "'Q3'"
      ]
     },
     "execution_count": 513,
     "metadata": {},
     "output_type": "execute_result"
    }
   ],
   "source": [
    "stock_dict['Stock Financials']['results'][0]['fiscal_period']"
   ]
  },
  {
   "cell_type": "code",
   "execution_count": 514,
   "id": "aea3710d",
   "metadata": {},
   "outputs": [
    {
     "data": {
      "text/plain": [
       "'2021'"
      ]
     },
     "execution_count": 514,
     "metadata": {},
     "output_type": "execute_result"
    }
   ],
   "source": [
    "stock_dict['Stock Financials']['results'][0]['fiscal_year']"
   ]
  },
  {
   "cell_type": "code",
   "execution_count": 529,
   "id": "d7bc82f4",
   "metadata": {},
   "outputs": [
    {
     "data": {
      "text/plain": [
       "1.31"
      ]
     },
     "execution_count": 529,
     "metadata": {},
     "output_type": "execute_result"
    }
   ],
   "source": [
    "stock_dict['Stock Financials']['results'][0]['financials']['income_statement']['basic_earnings_per_share']['value']"
   ]
  },
  {
   "cell_type": "code",
   "execution_count": 531,
   "id": "13576180",
   "metadata": {},
   "outputs": [],
   "source": [
    "gross_profit = np.round(stock_dict['Stock Financials']['results'][0]['financials']['income_statement']['gross_profit']['value']\n",
    "                        /1000000000, 2)"
   ]
  },
  {
   "cell_type": "code",
   "execution_count": 532,
   "id": "a5e96b06",
   "metadata": {},
   "outputs": [
    {
     "data": {
      "text/plain": [
       "35.26"
      ]
     },
     "execution_count": 532,
     "metadata": {},
     "output_type": "execute_result"
    }
   ],
   "source": [
    "gross_profit"
   ]
  },
  {
   "cell_type": "markdown",
   "id": "9c9502a8",
   "metadata": {},
   "source": [
    "# YFinance"
   ]
  },
  {
   "cell_type": "code",
   "execution_count": 583,
   "id": "b29b3af4",
   "metadata": {},
   "outputs": [],
   "source": [
    "ticker_yf = yf.Ticker(\"TSLA\")"
   ]
  },
  {
   "cell_type": "code",
   "execution_count": 589,
   "id": "1d546c8e",
   "metadata": {},
   "outputs": [
    {
     "data": {
      "text/plain": [
       "False"
      ]
     },
     "execution_count": 589,
     "metadata": {},
     "output_type": "execute_result"
    }
   ],
   "source": [
    "'trailingAnnualDividendYield' not in ticker_yf.info.keys()"
   ]
  },
  {
   "cell_type": "code",
   "execution_count": null,
   "id": "ea28976c",
   "metadata": {},
   "outputs": [],
   "source": [
    "np.round(ticker_yf.info['marketCap']/1000000000,2)"
   ]
  },
  {
   "cell_type": "code",
   "execution_count": null,
   "id": "a6d59df0",
   "metadata": {},
   "outputs": [],
   "source": [
    "ticker_yf.quarterly_cashflow"
   ]
  },
  {
   "cell_type": "code",
   "execution_count": null,
   "id": "6537ae71",
   "metadata": {},
   "outputs": [],
   "source": [
    "ticker_yf.quarterly_financials"
   ]
  },
  {
   "cell_type": "code",
   "execution_count": null,
   "id": "a2ce7c4e",
   "metadata": {},
   "outputs": [],
   "source": [
    "ticker_yf.quarterly_earnings"
   ]
  },
  {
   "cell_type": "code",
   "execution_count": null,
   "id": "1e21a774",
   "metadata": {},
   "outputs": [],
   "source": [
    "ticker_yf.info.keys()"
   ]
  },
  {
   "cell_type": "code",
   "execution_count": null,
   "id": "98c95a41",
   "metadata": {},
   "outputs": [],
   "source": [
    "ticker_yf.info['trailingAnnualDividendYield']*100"
   ]
  },
  {
   "cell_type": "code",
   "execution_count": null,
   "id": "9d57f385",
   "metadata": {},
   "outputs": [],
   "source": [
    "stock_dict['YF Info']['marketCap']"
   ]
  },
  {
   "cell_type": "code",
   "execution_count": null,
   "id": "57342622",
   "metadata": {},
   "outputs": [],
   "source": [
    "ticker_yf.news[0:5]"
   ]
  },
  {
   "cell_type": "markdown",
   "id": "4555cff0",
   "metadata": {},
   "source": [
    "### Write Out to Desktop"
   ]
  },
  {
   "cell_type": "code",
   "execution_count": 127,
   "id": "c55f4281",
   "metadata": {},
   "outputs": [],
   "source": [
    "df_stock.to_csv(\"../Data/AAPL.csv\")"
   ]
  },
  {
   "cell_type": "markdown",
   "id": "1e2558ad",
   "metadata": {},
   "source": [
    "### Send to Firebase"
   ]
  },
  {
   "cell_type": "code",
   "execution_count": 151,
   "id": "ad205453",
   "metadata": {},
   "outputs": [],
   "source": [
    "url = 'https://stock-price-predictor-af4ea-default-rtdb.firebaseio.com/'"
   ]
  },
  {
   "cell_type": "code",
   "execution_count": 152,
   "id": "256bf0f4",
   "metadata": {},
   "outputs": [],
   "source": [
    "ticker_put_url = url + ticker + '.json'"
   ]
  },
  {
   "cell_type": "code",
   "execution_count": 153,
   "id": "278b57e3",
   "metadata": {},
   "outputs": [],
   "source": [
    "response = requests.put( ticker_put_url, data=json.dumps(stock_dict) )"
   ]
  },
  {
   "cell_type": "markdown",
   "id": "72ddaa39",
   "metadata": {},
   "source": [
    "# Twitter Information (Lost Cause)"
   ]
  },
  {
   "cell_type": "code",
   "execution_count": 13,
   "id": "899855d8",
   "metadata": {},
   "outputs": [],
   "source": [
    "consumer_key = '7TiysPCAezYZAYbKXlByQrD3v'\n",
    "consumer_secret = 'iHktyxghooHJvIHRF6xHdr3KvZeNCtYxo7vrEJlz2LBmOwvaaz'\n",
    "access_token = '452862151-agKSJhfYb0ho2nBdlLgpjbZSf6K80bm5apiPdJwL'\n",
    "access_secret = 'Yg6wXVo75WxPUeQyuk8t6A1stDlaIscRWpzzERkiVQNi7'\n",
    "bearer = 'AAAAAAAAAAAAAAAAAAAAAHlNUwEAAAAAUrQ5vQKy1iuNtdoH6CYoJz2FQSY%3DQ7cBzPi9YLQBL3CVJEl7Xjt9iNqvYDw5xBAJJOmVswvUwSxTMI'"
   ]
  },
  {
   "cell_type": "markdown",
   "id": "a29090ad",
   "metadata": {},
   "source": [
    "### Extract Tweets"
   ]
  },
  {
   "cell_type": "code",
   "execution_count": 14,
   "id": "2b537934",
   "metadata": {},
   "outputs": [],
   "source": [
    "now = datetime.now().replace(hour=datetime.now().hour, minute=0, second=0, microsecond=0)"
   ]
  },
  {
   "cell_type": "code",
   "execution_count": 15,
   "id": "b120dcdb",
   "metadata": {},
   "outputs": [],
   "source": [
    "dtformat = '%Y-%m-%dT%H:%M:%SZ'"
   ]
  },
  {
   "cell_type": "code",
   "execution_count": 16,
   "id": "b24f5925",
   "metadata": {},
   "outputs": [],
   "source": [
    "dfs = []\n",
    "\n",
    "# just for checking\n",
    "currs = []\n",
    "lasts = []\n",
    "\n",
    "curr_hr = now.strftime(dtformat)\n",
    "\n",
    "for i in range(1, 24*6):\n",
    "    last_hr = (now + timedelta(hours=-i)).strftime(dtformat)\n",
    "\n",
    "    endpoint = 'https://api.twitter.com/2/tweets/search/recent'\n",
    "    headers = {'authorization': f'Bearer {bearer}'}\n",
    "\n",
    "    params = {\n",
    "        'query': '(aapl OR tim cook) (lang:en)',\n",
    "        'max_results': '100',\n",
    "        'tweet.fields': 'created_at,lang',\n",
    "        'start_time': last_hr,\n",
    "        'end_time': curr_hr\n",
    "    }\n",
    "\n",
    "    response = requests.get(endpoint,\n",
    "                                params=params,\n",
    "                                headers=headers)\n",
    "\n",
    "    tweets_dict = dict(response.json())['data']\n",
    "    time = [last_hr for x in range(0, len(tweets_dict))]\n",
    "    tweets = []\n",
    "    for tweet in tweets_dict:\n",
    "        tweets.append(tweet['text'])\n",
    "\n",
    "    df_tweets = pd.DataFrame({\n",
    "        'time':time,\n",
    "        'tweet': tweets\n",
    "    })\n",
    "    \n",
    "    currs.append(curr_hr)\n",
    "    lasts.append(last_hr)\n",
    "    \n",
    "    dfs.append(df_tweets)\n",
    "    \n",
    "    curr_hr = last_hr"
   ]
  },
  {
   "cell_type": "code",
   "execution_count": 20,
   "id": "198bd0f1",
   "metadata": {},
   "outputs": [],
   "source": [
    "df_tweets = pd.concat(dfs).reset_index(drop=True)"
   ]
  },
  {
   "cell_type": "code",
   "execution_count": 21,
   "id": "e11292ec",
   "metadata": {},
   "outputs": [
    {
     "data": {
      "text/html": [
       "<div>\n",
       "<style scoped>\n",
       "    .dataframe tbody tr th:only-of-type {\n",
       "        vertical-align: middle;\n",
       "    }\n",
       "\n",
       "    .dataframe tbody tr th {\n",
       "        vertical-align: top;\n",
       "    }\n",
       "\n",
       "    .dataframe thead th {\n",
       "        text-align: right;\n",
       "    }\n",
       "</style>\n",
       "<table border=\"1\" class=\"dataframe\">\n",
       "  <thead>\n",
       "    <tr style=\"text-align: right;\">\n",
       "      <th></th>\n",
       "      <th>time</th>\n",
       "      <th>tweet</th>\n",
       "    </tr>\n",
       "  </thead>\n",
       "  <tbody>\n",
       "    <tr>\n",
       "      <th>0</th>\n",
       "      <td>2021-11-24T22:00:00Z</td>\n",
       "      <td>My pick for best performance starting now unti...</td>\n",
       "    </tr>\n",
       "    <tr>\n",
       "      <th>1</th>\n",
       "      <td>2021-11-24T22:00:00Z</td>\n",
       "      <td>Apple CEO Tim Cook Talks Self Service Repair, ...</td>\n",
       "    </tr>\n",
       "    <tr>\n",
       "      <th>2</th>\n",
       "      <td>2021-11-24T22:00:00Z</td>\n",
       "      <td>RT @harinarayananpc: Tim \"Cook\" now makes sense.😂</td>\n",
       "    </tr>\n",
       "    <tr>\n",
       "      <th>3</th>\n",
       "      <td>2021-11-24T22:00:00Z</td>\n",
       "      <td>RT @falcon_fintwit: For a real world example, ...</td>\n",
       "    </tr>\n",
       "    <tr>\n",
       "      <th>4</th>\n",
       "      <td>2021-11-24T22:00:00Z</td>\n",
       "      <td>@zorn Ugh. I haven’t tried a build with the la...</td>\n",
       "    </tr>\n",
       "    <tr>\n",
       "      <th>...</th>\n",
       "      <td>...</td>\n",
       "      <td>...</td>\n",
       "    </tr>\n",
       "    <tr>\n",
       "      <th>13885</th>\n",
       "      <td>2021-11-19T00:00:00Z</td>\n",
       "      <td>Totally wrong .  I 100% would buy an $tsla pho...</td>\n",
       "    </tr>\n",
       "    <tr>\n",
       "      <th>13886</th>\n",
       "      <td>2021-11-19T00:00:00Z</td>\n",
       "      <td>RT @squawksquare: Look at how long $TSLA has b...</td>\n",
       "    </tr>\n",
       "    <tr>\n",
       "      <th>13887</th>\n",
       "      <td>2021-11-19T00:00:00Z</td>\n",
       "      <td>RT @CannabisHempCBD: Meme stock $SNDL  plans t...</td>\n",
       "    </tr>\n",
       "    <tr>\n",
       "      <th>13888</th>\n",
       "      <td>2021-11-19T00:00:00Z</td>\n",
       "      <td>RT @munster_gene: $AAPL up almost 3% today on ...</td>\n",
       "    </tr>\n",
       "    <tr>\n",
       "      <th>13889</th>\n",
       "      <td>2021-11-19T00:00:00Z</td>\n",
       "      <td>CEO of $INVZ on Yahoo Finance Live today, coul...</td>\n",
       "    </tr>\n",
       "  </tbody>\n",
       "</table>\n",
       "<p>13890 rows × 2 columns</p>\n",
       "</div>"
      ],
      "text/plain": [
       "                       time                                              tweet\n",
       "0      2021-11-24T22:00:00Z  My pick for best performance starting now unti...\n",
       "1      2021-11-24T22:00:00Z  Apple CEO Tim Cook Talks Self Service Repair, ...\n",
       "2      2021-11-24T22:00:00Z  RT @harinarayananpc: Tim \"Cook\" now makes sense.😂\n",
       "3      2021-11-24T22:00:00Z  RT @falcon_fintwit: For a real world example, ...\n",
       "4      2021-11-24T22:00:00Z  @zorn Ugh. I haven’t tried a build with the la...\n",
       "...                     ...                                                ...\n",
       "13885  2021-11-19T00:00:00Z  Totally wrong .  I 100% would buy an $tsla pho...\n",
       "13886  2021-11-19T00:00:00Z  RT @squawksquare: Look at how long $TSLA has b...\n",
       "13887  2021-11-19T00:00:00Z  RT @CannabisHempCBD: Meme stock $SNDL  plans t...\n",
       "13888  2021-11-19T00:00:00Z  RT @munster_gene: $AAPL up almost 3% today on ...\n",
       "13889  2021-11-19T00:00:00Z  CEO of $INVZ on Yahoo Finance Live today, coul...\n",
       "\n",
       "[13890 rows x 2 columns]"
      ]
     },
     "execution_count": 21,
     "metadata": {},
     "output_type": "execute_result"
    }
   ],
   "source": [
    "df_tweets"
   ]
  },
  {
   "cell_type": "code",
   "execution_count": 22,
   "id": "91df36c6",
   "metadata": {},
   "outputs": [
    {
     "data": {
      "text/html": [
       "<div>\n",
       "<style scoped>\n",
       "    .dataframe tbody tr th:only-of-type {\n",
       "        vertical-align: middle;\n",
       "    }\n",
       "\n",
       "    .dataframe tbody tr th {\n",
       "        vertical-align: top;\n",
       "    }\n",
       "\n",
       "    .dataframe thead th {\n",
       "        text-align: right;\n",
       "    }\n",
       "</style>\n",
       "<table border=\"1\" class=\"dataframe\">\n",
       "  <thead>\n",
       "    <tr style=\"text-align: right;\">\n",
       "      <th></th>\n",
       "      <th>start</th>\n",
       "      <th>end</th>\n",
       "    </tr>\n",
       "  </thead>\n",
       "  <tbody>\n",
       "    <tr>\n",
       "      <th>0</th>\n",
       "      <td>2021-11-24T22:00:00Z</td>\n",
       "      <td>2021-11-24T23:00:00Z</td>\n",
       "    </tr>\n",
       "    <tr>\n",
       "      <th>1</th>\n",
       "      <td>2021-11-24T21:00:00Z</td>\n",
       "      <td>2021-11-24T22:00:00Z</td>\n",
       "    </tr>\n",
       "    <tr>\n",
       "      <th>2</th>\n",
       "      <td>2021-11-24T20:00:00Z</td>\n",
       "      <td>2021-11-24T21:00:00Z</td>\n",
       "    </tr>\n",
       "  </tbody>\n",
       "</table>\n",
       "</div>"
      ],
      "text/plain": [
       "                  start                   end\n",
       "0  2021-11-24T22:00:00Z  2021-11-24T23:00:00Z\n",
       "1  2021-11-24T21:00:00Z  2021-11-24T22:00:00Z\n",
       "2  2021-11-24T20:00:00Z  2021-11-24T21:00:00Z"
      ]
     },
     "execution_count": 22,
     "metadata": {},
     "output_type": "execute_result"
    }
   ],
   "source": [
    "# check to see if the times are accurate\n",
    "pd.DataFrame({\n",
    "    'start':lasts,\n",
    "    'end': currs\n",
    "}).head(3)"
   ]
  },
  {
   "cell_type": "code",
   "execution_count": 24,
   "id": "8393366c",
   "metadata": {},
   "outputs": [],
   "source": [
    "max_time = datetime.strptime(df_tweets['time'].max(), dtformat)\n",
    "min_time = datetime.strptime(df_tweets['time'].min(), dtformat)"
   ]
  },
  {
   "cell_type": "code",
   "execution_count": 32,
   "id": "f4baf550",
   "metadata": {},
   "outputs": [],
   "source": [
    "# datetime(hold.year, hold.month, hold.day)"
   ]
  },
  {
   "cell_type": "code",
   "execution_count": 26,
   "id": "29c906de",
   "metadata": {
    "scrolled": true
   },
   "outputs": [],
   "source": [
    "stock = yf.Ticker(\"AAPL\")\n",
    "df_stock = stock.history(\n",
    "    start=datetime(min_time.year, min_time.month, min_time.day),\n",
    "    interval='60m'\n",
    ").reset_index()"
   ]
  },
  {
   "cell_type": "code",
   "execution_count": 31,
   "id": "e1b6ba24",
   "metadata": {},
   "outputs": [
    {
     "data": {
      "text/plain": [
       "30"
      ]
     },
     "execution_count": 31,
     "metadata": {},
     "output_type": "execute_result"
    }
   ],
   "source": [
    "df_stock['Datetime'][0].minute"
   ]
  },
  {
   "cell_type": "code",
   "execution_count": 453,
   "id": "5410f97b",
   "metadata": {
    "scrolled": false
   },
   "outputs": [
    {
     "data": {
      "text/plain": [
       "[<matplotlib.lines.Line2D at 0x7fe94f468f50>]"
      ]
     },
     "execution_count": 453,
     "metadata": {},
     "output_type": "execute_result"
    },
    {
     "data": {
      "image/png": "[encoded data removed]",
      "text/plain": [
       "<Figure size 720x360 with 1 Axes>"
      ]
     },
     "metadata": {
      "needs_background": "light"
     },
     "output_type": "display_data"
    }
   ],
   "source": [
    "plt.figure(figsize=(10,5))\n",
    "plt.plot(df_stock['Datetime'], df_stock['Close'])"
   ]
  },
  {
   "cell_type": "code",
   "execution_count": 460,
   "id": "8aa84707",
   "metadata": {},
   "outputs": [],
   "source": [
    "transform = df_stock['Datetime'][0]"
   ]
  },
  {
   "cell_type": "code",
   "execution_count": 461,
   "id": "ebe4272b",
   "metadata": {},
   "outputs": [
    {
     "data": {
      "text/plain": [
       "Timestamp('2021-11-08 09:30:00-0500', tz='America/New_York')"
      ]
     },
     "execution_count": 461,
     "metadata": {},
     "output_type": "execute_result"
    }
   ],
   "source": [
    "transform"
   ]
  },
  {
   "cell_type": "code",
   "execution_count": 465,
   "id": "77c2cdc9",
   "metadata": {},
   "outputs": [
    {
     "data": {
      "text/plain": [
       "0        2021-11-14T18:00:00Z\n",
       "1        2021-11-14T18:00:00Z\n",
       "2        2021-11-14T18:00:00Z\n",
       "3        2021-11-14T18:00:00Z\n",
       "4        2021-11-14T18:00:00Z\n",
       "                 ...         \n",
       "13941    2021-11-08T20:00:00Z\n",
       "13942    2021-11-08T20:00:00Z\n",
       "13943    2021-11-08T20:00:00Z\n",
       "13944    2021-11-08T20:00:00Z\n",
       "13945    2021-11-08T20:00:00Z\n",
       "Name: time, Length: 13946, dtype: object"
      ]
     },
     "execution_count": 465,
     "metadata": {},
     "output_type": "execute_result"
    }
   ],
   "source": [
    "df_tweets['time']"
   ]
  }
 ],
 "metadata": {
  "kernelspec": {
   "display_name": "Python 3",
   "language": "python",
   "name": "python3"
  },
  "language_info": {
   "codemirror_mode": {
    "name": "ipython",
    "version": 3
   },
   "file_extension": ".py",
   "mimetype": "text/x-python",
   "name": "python",
   "nbconvert_exporter": "python",
   "pygments_lexer": "ipython3",
   "version": "3.7.4"
  }
 },
 "nbformat": 4,
 "nbformat_minor": 5
}
