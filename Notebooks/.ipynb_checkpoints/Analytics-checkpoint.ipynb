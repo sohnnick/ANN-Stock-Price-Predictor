{
 "cells": [
  {
   "cell_type": "code",
   "execution_count": 196,
   "id": "ea73b22f",
   "metadata": {},
   "outputs": [],
   "source": [
    "import pandas as pd\n",
    "import numpy as np\n",
    "import matplotlib.pyplot as plt\n",
    "import datetime\n",
    "from datetime import datetime\n",
    "import requests\n",
    "import xgboost\n",
    "from xgboost import XGBRegressor\n",
    "import sklearn\n",
    "from sklearn.linear_model import LinearRegression\n",
    "from statsmodels.tsa.arima.model import ARIMA\n",
    "from pmdarima.arima import auto_arima\n",
    "from sklearn.metrics import mean_squared_error, mean_absolute_error\n",
    "from sklearn.preprocessing import PolynomialFeatures, MinMaxScaler\n",
    "from keras.models import Sequential\n",
    "from keras.layers import Dense, LSTM\n",
    "import pandas_datareader as web\n",
    "from dateutil import parser"
   ]
  },
  {
   "cell_type": "markdown",
   "id": "3b223727",
   "metadata": {},
   "source": [
    "# Create Dataframe"
   ]
  },
  {
   "cell_type": "code",
   "execution_count": 197,
   "id": "d40372f4",
   "metadata": {},
   "outputs": [],
   "source": [
    "ticker = \"AAPL\""
   ]
  },
  {
   "cell_type": "code",
   "execution_count": 198,
   "id": "1881bcc0",
   "metadata": {},
   "outputs": [],
   "source": [
    "url = 'https://stock-price-predictor-af4ea-default-rtdb.firebaseio.com/'\n",
    "ticker_get_url = url + ticker + '.json'"
   ]
  },
  {
   "cell_type": "code",
   "execution_count": 199,
   "id": "cdadc6b4",
   "metadata": {},
   "outputs": [],
   "source": [
    "response = requests.get( ticker_get_url )\n",
    "stock_dict = dict(response.json())"
   ]
  },
  {
   "cell_type": "code",
   "execution_count": 200,
   "id": "fcf7e7e1",
   "metadata": {},
   "outputs": [
    {
     "data": {
      "text/plain": [
       "dict_keys(['Last-Update', 'Stock Close', 'Stock Dates', 'Stock Financials', 'Stock High', 'Stock Info', 'Stock Low', 'Stock Meta', 'Stock Open', 'Stock Volume', 'Ticker'])"
      ]
     },
     "execution_count": 200,
     "metadata": {},
     "output_type": "execute_result"
    }
   ],
   "source": [
    "stock_dict.keys()"
   ]
  },
  {
   "cell_type": "code",
   "execution_count": 201,
   "id": "04f0a805",
   "metadata": {},
   "outputs": [],
   "source": [
    "df_stock = pd.DataFrame({\n",
    "    \"Date\": stock_dict['Stock Dates'],\n",
    "    \"Stock Close\": stock_dict['Stock Close']\n",
    "})"
   ]
  },
  {
   "cell_type": "markdown",
   "id": "e9bf9405",
   "metadata": {},
   "source": [
    "# X and Y and Train and Test"
   ]
  },
  {
   "cell_type": "code",
   "execution_count": 202,
   "id": "22c2966f",
   "metadata": {},
   "outputs": [],
   "source": [
    "df_stock['Year'] = [x.split('-')[0] for x in list(df_stock['Date'])]\n",
    "df_stock['Month'] = [x.split('-')[1] for x in list(df_stock['Date'])]\n",
    "df_stock['Day'] = [x.split('-')[2] for x in list(df_stock['Date'])]"
   ]
  },
  {
   "cell_type": "code",
   "execution_count": 203,
   "id": "da4cdb2b",
   "metadata": {},
   "outputs": [],
   "source": [
    "x = df_stock[['Year', 'Month', 'Day']].astype('int')\n",
    "y = df_stock['Stock Close']"
   ]
  },
  {
   "cell_type": "code",
   "execution_count": 204,
   "id": "c706aebd",
   "metadata": {},
   "outputs": [],
   "source": [
    "thresh = int(len(x)*2/3)\n",
    "\n",
    "x_train = x[:thresh]\n",
    "y_train = y[:thresh]\n",
    "\n",
    "x_test = x[thresh:]\n",
    "y_test = y[thresh:]"
   ]
  },
  {
   "cell_type": "markdown",
   "id": "815c31a9",
   "metadata": {},
   "source": [
    "# NN"
   ]
  },
  {
   "cell_type": "code",
   "execution_count": 205,
   "id": "ba382eb1",
   "metadata": {},
   "outputs": [],
   "source": [
    "df_nn = df_stock.copy()\n",
    "df_dates = df_nn[['Year', 'Month', 'Day']]\n",
    "df_nn['Datetime'] = pd.to_datetime(df_dates)"
   ]
  },
  {
   "cell_type": "code",
   "execution_count": 206,
   "id": "efca55e0",
   "metadata": {},
   "outputs": [],
   "source": [
    "df_close = df_nn['Stock Close']\n",
    "np_close = df_close.values"
   ]
  },
  {
   "cell_type": "code",
   "execution_count": 207,
   "id": "7e88ac9d",
   "metadata": {},
   "outputs": [],
   "source": [
    "thresh = int(np.ceil(len(np_close)*.7))"
   ]
  },
  {
   "cell_type": "code",
   "execution_count": 208,
   "id": "c25f9ff1",
   "metadata": {},
   "outputs": [],
   "source": [
    "# scale dataset\n",
    "scaler = MinMaxScaler(feature_range=(0, 1)) \n",
    "scaled_data = scaler.fit_transform(np_close.reshape(-1, 1))"
   ]
  },
  {
   "cell_type": "code",
   "execution_count": 209,
   "id": "87b8b1cf",
   "metadata": {},
   "outputs": [],
   "source": [
    "#Create the scaled training data set \n",
    "train_data = scaled_data[0:thresh]\n",
    "\n",
    "#Split the data into x_train and y_train data sets\n",
    "x_train=[]\n",
    "y_train = []\n",
    "for i in range(60,len(train_data)):\n",
    "    x_train.append(train_data[i-60:i,0])\n",
    "    y_train.append(train_data[i,0])"
   ]
  },
  {
   "cell_type": "code",
   "execution_count": 210,
   "id": "bfb62b05",
   "metadata": {},
   "outputs": [],
   "source": [
    "x_train, y_train = np.array(x_train), np.array(y_train)"
   ]
  },
  {
   "cell_type": "code",
   "execution_count": 211,
   "id": "e05b0946",
   "metadata": {},
   "outputs": [],
   "source": [
    "x_train = np.reshape(x_train, (x_train.shape[0],x_train.shape[1],1))"
   ]
  },
  {
   "cell_type": "code",
   "execution_count": 212,
   "id": "183b985e",
   "metadata": {},
   "outputs": [],
   "source": [
    "model = Sequential()\n",
    "model.add(LSTM(units=50, return_sequences=True,input_shape=(x_train.shape[1],1)))\n",
    "model.add(LSTM(units=50, return_sequences=False))\n",
    "model.add(Dense(units=25))\n",
    "model.add(Dense(units=1))"
   ]
  },
  {
   "cell_type": "code",
   "execution_count": 213,
   "id": "03c73b0b",
   "metadata": {},
   "outputs": [],
   "source": [
    "model.compile(optimizer='adam', loss='mean_squared_error')"
   ]
  },
  {
   "cell_type": "code",
   "execution_count": 214,
   "id": "9e607ddc",
   "metadata": {},
   "outputs": [
    {
     "name": "stdout",
     "output_type": "stream",
     "text": [
      "Epoch 1/1\n",
      "821/821 [==============================] - 33s 40ms/step - loss: 6.5253e-04\n"
     ]
    },
    {
     "data": {
      "text/plain": [
       "<keras.callbacks.callbacks.History at 0x7f95687e8f10>"
      ]
     },
     "execution_count": 214,
     "metadata": {},
     "output_type": "execute_result"
    }
   ],
   "source": [
    "model.fit(x_train, y_train, batch_size=1, epochs=1)"
   ]
  },
  {
   "cell_type": "code",
   "execution_count": 215,
   "id": "dde82c25",
   "metadata": {},
   "outputs": [],
   "source": [
    "test_data = scaled_data[thresh - 60: , : ]"
   ]
  },
  {
   "cell_type": "code",
   "execution_count": 216,
   "id": "10c984f5",
   "metadata": {},
   "outputs": [],
   "source": [
    "x_test = []\n",
    "y_test = np_close[thresh:]\n",
    "for i in range(60,len(test_data)):\n",
    "    x_test.append(test_data[i-60:i,0])"
   ]
  },
  {
   "cell_type": "code",
   "execution_count": 217,
   "id": "9217920e",
   "metadata": {},
   "outputs": [],
   "source": [
    "x_test = np.array(x_test)"
   ]
  },
  {
   "cell_type": "code",
   "execution_count": 218,
   "id": "97499934",
   "metadata": {},
   "outputs": [],
   "source": [
    "x_test = np.reshape(x_test, (x_test.shape[0],x_test.shape[1],1))"
   ]
  },
  {
   "cell_type": "code",
   "execution_count": 219,
   "id": "34a8b975",
   "metadata": {},
   "outputs": [],
   "source": [
    "predictions = model.predict(x_test) \n",
    "predictions = scaler.inverse_transform(predictions)"
   ]
  },
  {
   "cell_type": "code",
   "execution_count": 220,
   "id": "2e310fab",
   "metadata": {},
   "outputs": [
    {
     "data": {
      "text/plain": [
       "26.883882375330742"
      ]
     },
     "execution_count": 220,
     "metadata": {},
     "output_type": "execute_result"
    }
   ],
   "source": [
    "rmse = np.sqrt(np.mean(((predictions - y_test)**2)))\n",
    "rmse"
   ]
  },
  {
   "cell_type": "code",
   "execution_count": 221,
   "id": "878b5340",
   "metadata": {
    "scrolled": false
   },
   "outputs": [
    {
     "data": {
      "image/png": "[encoded data removed]",
      "text/plain": [
       "<Figure size 1152x576 with 1 Axes>"
      ]
     },
     "metadata": {
      "needs_background": "light"
     },
     "output_type": "display_data"
    }
   ],
   "source": [
    "train = df_close[:thresh]\n",
    "valid = df_close[thresh:]\n",
    "\n",
    "valid['Predictions'] = predictions\n",
    "\n",
    "#Visualize the data\n",
    "plt.figure(figsize=(16,8))\n",
    "plt.title('Model')\n",
    "plt.xlabel('Date', fontsize=18)\n",
    "plt.ylabel('Close Price USD ($)', fontsize=18)\n",
    "plt.plot(df_nn['Datetime'], df_nn['Stock Close'])\n",
    "plt.plot(df_nn['Datetime'][thresh:], predictions)\n",
    "plt.legend(['Train', 'Val', 'Predictions'], loc='lower right')\n",
    "plt.show()"
   ]
  },
  {
   "cell_type": "markdown",
   "id": "c4a98e2f",
   "metadata": {},
   "source": [
    "# XGBoost"
   ]
  },
  {
   "cell_type": "code",
   "execution_count": 162,
   "id": "455471a3",
   "metadata": {},
   "outputs": [],
   "source": [
    "# model_xgboost = XGBRegressor()\n",
    "# model_xgboost.fit(x_train, y_train)\n",
    "\n",
    "# pred_results = list(model.predict(x_test))\n",
    "\n",
    "# datetime_dates = [datetime(int(x.split('-')[0]), int(x.split('-')[1]), int(x.split('-')[2])) \n",
    "#                   for x in list(df_stock['Date'])]\n",
    "\n",
    "# plt.plot(datetime_dates, y)\n",
    "# plt.plot(datetime_dates[thresh:], pred_results)"
   ]
  },
  {
   "cell_type": "markdown",
   "id": "04ec3cb2",
   "metadata": {},
   "source": [
    "# ARIMA"
   ]
  },
  {
   "cell_type": "code",
   "execution_count": 166,
   "id": "33bbc2f6",
   "metadata": {},
   "outputs": [],
   "source": [
    "# arima_train = y_train\n",
    "# arima_test = y_test\n",
    "\n",
    "# model = auto_arima(arima_train, trace=True, error_action='ignore', suppress_warnings=True)\n",
    "# model.fit(arima_train)\n",
    "# forecast = model.predict(n_periods=len(arima_test))\n",
    "\n",
    "# plt.plot(datetime_dates, y)\n",
    "# plt.plot(datetime_dates[thresh:], forecast)"
   ]
  },
  {
   "cell_type": "markdown",
   "id": "f9f442bb",
   "metadata": {},
   "source": [
    "# Linear Regression"
   ]
  },
  {
   "cell_type": "code",
   "execution_count": 43,
   "id": "3258547a",
   "metadata": {},
   "outputs": [
    {
     "data": {
      "text/plain": [
       "LinearRegression()"
      ]
     },
     "execution_count": 43,
     "metadata": {},
     "output_type": "execute_result"
    }
   ],
   "source": [
    "# poly_reg = PolynomialFeatures(degree=5)\n",
    "# x_poly_train = poly_reg.fit_transform(x_train)\n",
    "# x_poly_test = poly_reg.fit_transform(x_test)\n",
    "# model_reg = LinearRegression()\n",
    "# model_reg.fit(x_poly_train, y_train)\n",
    "\n",
    "# pred_results = model_reg.predict(x_poly_test)\n",
    "\n",
    "# plt.plot(datetime_dates, y)\n",
    "# plt.plot(datetime_dates[thresh:], pred_results)"
   ]
  },
  {
   "cell_type": "markdown",
   "id": "3e22f4c2",
   "metadata": {},
   "source": [
    "# Other Stuff"
   ]
  },
  {
   "cell_type": "code",
   "execution_count": 47,
   "id": "41159388",
   "metadata": {},
   "outputs": [
    {
     "data": {
      "text/plain": [
       "'2021-10-25 00:35:51.657731'"
      ]
     },
     "execution_count": 47,
     "metadata": {},
     "output_type": "execute_result"
    }
   ],
   "source": [
    "str(datetime.now())"
   ]
  },
  {
   "cell_type": "code",
   "execution_count": 57,
   "id": "800933f1",
   "metadata": {},
   "outputs": [],
   "source": [
    "url = 'https://stock-price-predictor-af4ea-default-rtdb.firebaseio.com/'\n",
    "ticker_get_url = url + 'FB' + '/Last-Update.json'\n",
    "response = requests.get( ticker_get_url )\n",
    "update_time = str(response.json())"
   ]
  },
  {
   "cell_type": "code",
   "execution_count": 58,
   "id": "367cee16",
   "metadata": {},
   "outputs": [
    {
     "data": {
      "text/plain": [
       "'None'"
      ]
     },
     "execution_count": 58,
     "metadata": {},
     "output_type": "execute_result"
    }
   ],
   "source": [
    "update_time"
   ]
  },
  {
   "cell_type": "code",
   "execution_count": 195,
   "id": "a06a7dea",
   "metadata": {},
   "outputs": [
    {
     "data": {
      "text/plain": [
       "'2.3.1'"
      ]
     },
     "execution_count": 195,
     "metadata": {},
     "output_type": "execute_result"
    }
   ],
   "source": [
    "import keras\n",
    "keras.__version__"
   ]
  },
  {
   "cell_type": "code",
   "execution_count": null,
   "id": "d2231896",
   "metadata": {},
   "outputs": [],
   "source": []
  }
 ],
 "metadata": {
  "kernelspec": {
   "display_name": "Python 3",
   "language": "python",
   "name": "python3"
  },
  "language_info": {
   "codemirror_mode": {
    "name": "ipython",
    "version": 3
   },
   "file_extension": ".py",
   "mimetype": "text/x-python",
   "name": "python",
   "nbconvert_exporter": "python",
   "pygments_lexer": "ipython3",
   "version": "3.7.4"
  }
 },
 "nbformat": 4,
 "nbformat_minor": 5
}
