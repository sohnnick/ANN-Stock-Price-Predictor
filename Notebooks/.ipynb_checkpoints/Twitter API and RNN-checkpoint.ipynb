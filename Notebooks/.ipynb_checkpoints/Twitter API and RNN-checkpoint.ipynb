{
 "cells": [
  {
   "cell_type": "code",
   "execution_count": 36,
   "id": "27839873",
   "metadata": {},
   "outputs": [],
   "source": [
    "import warnings\n",
    "warnings.filterwarnings(\"ignore\")"
   ]
  },
  {
   "cell_type": "code",
   "execution_count": 208,
   "id": "6e312791",
   "metadata": {},
   "outputs": [],
   "source": [
    "import pandas as pd\n",
    "import requests\n",
    "import datetime\n",
    "from datetime import datetime, timezone, date, timedelta\n",
    "from dateutil.relativedelta import relativedelta\n",
    "import matplotlib.pyplot as plt\n",
    "import tweepy\n",
    "import json\n",
    "import yfinance as yf\n",
    "import numpy as np\n",
    "from tqdm import tqdm\n",
    "from datetime import datetime, timezone, date, timedelta\n",
    "from dateutil.relativedelta import relativedelta\n",
    "from sklearn.preprocessing import PolynomialFeatures, MinMaxScaler\n",
    "import json\n",
    "import numpy as np\n",
    "from tqdm import tqdm\n",
    "from pytz import timezone\n",
    "import flair\n",
    "import pickle\n",
    "import joblib\n",
    "from sklearn.linear_model import LinearRegression"
   ]
  },
  {
   "cell_type": "markdown",
   "id": "d8574328",
   "metadata": {},
   "source": [
    "# Get Data From Twitter's API"
   ]
  },
  {
   "cell_type": "code",
   "execution_count": 38,
   "id": "08579409",
   "metadata": {},
   "outputs": [],
   "source": [
    "consumer_key = '7TiysPCAezYZAYbKXlByQrD3v'\n",
    "consumer_secret = 'iHktyxghooHJvIHRF6xHdr3KvZeNCtYxo7vrEJlz2LBmOwvaaz'\n",
    "access_token = '452862151-agKSJhfYb0ho2nBdlLgpjbZSf6K80bm5apiPdJwL'\n",
    "access_secret = 'Yg6wXVo75WxPUeQyuk8t6A1stDlaIscRWpzzERkiVQNi7'\n",
    "bearer = 'AAAAAAAAAAAAAAAAAAAAAHlNUwEAAAAAUrQ5vQKy1iuNtdoH6CYoJz2FQSY%3DQ7cBzPi9YLQBL3CVJEl7Xjt9iNqvYDw5xBAJJOmVswvUwSxTMI'"
   ]
  },
  {
   "cell_type": "code",
   "execution_count": 39,
   "id": "2a53e6c5",
   "metadata": {},
   "outputs": [],
   "source": [
    "now = datetime.now()\n",
    "if now.hour < 12:\n",
    "    now = now.replace(hour=0, minute=0, second=0, microsecond=0)\n",
    "else:\n",
    "    now = now.replace(hour=12, minute=0, second=0, microsecond=0)"
   ]
  },
  {
   "cell_type": "code",
   "execution_count": 40,
   "id": "17f4edc6",
   "metadata": {},
   "outputs": [],
   "source": [
    "dtformat = '%Y-%m-%dT%H:%M:%SZ'"
   ]
  },
  {
   "cell_type": "code",
   "execution_count": 41,
   "id": "2ad0fe9c",
   "metadata": {},
   "outputs": [],
   "source": [
    "dfs = []\n",
    "\n",
    "# just for checking\n",
    "currs = []\n",
    "prevs = []\n",
    "\n",
    "curr_day = now.strftime(dtformat)"
   ]
  },
  {
   "cell_type": "markdown",
   "id": "7dc688be",
   "metadata": {},
   "source": [
    "Our current time will be rounded down to nearest day at 12:00 PM."
   ]
  },
  {
   "cell_type": "code",
   "execution_count": 42,
   "id": "05dc1d25",
   "metadata": {
    "scrolled": false
   },
   "outputs": [
    {
     "name": "stderr",
     "output_type": "stream",
     "text": [
      "100%|██████████| 6/6 [00:03<00:00,  1.58it/s]\n"
     ]
    }
   ],
   "source": [
    "for i in tqdm(range(1, 7)):\n",
    "    prev_day = ((now + timedelta(hours=-12))).strftime(dtformat)\n",
    "    \n",
    "    endpoint = 'https://api.twitter.com/2/tweets/search/recent'\n",
    "    headers = {'authorization': f'Bearer {bearer}'}\n",
    "\n",
    "    params = {\n",
    "        'query': '(aapl stock) (lang:en)',\n",
    "        'max_results': '100',\n",
    "        'tweet.fields': 'created_at,lang',\n",
    "        'start_time': prev_day,\n",
    "        'end_time': curr_day\n",
    "    }\n",
    "\n",
    "    response = requests.get(endpoint,\n",
    "                                params=params,\n",
    "                                headers=headers)\n",
    "    tweets_dict = dict(response.json())['data']\n",
    "    time = [datetime(now.year, now.month, now.day) for x in range(0, len(tweets_dict))]\n",
    "    tweets = []\n",
    "    time_actual = []\n",
    "    \n",
    "    for tweet in tweets_dict:\n",
    "        tweets.append(tweet['text'])\n",
    "        time_actual.append(tweet['created_at'])\n",
    "\n",
    "    df_tweets = pd.DataFrame({\n",
    "        'end time':time,\n",
    "        'actual time': time_actual,\n",
    "        'tweet': tweets\n",
    "    })\n",
    "    \n",
    "    currs.append(curr_day)\n",
    "    prevs.append(prev_day)\n",
    "    \n",
    "    dfs.append(df_tweets)\n",
    "    \n",
    "    if now.hour == 0:\n",
    "        now = datetime.strptime(curr_day, dtformat) + timedelta(hours=-12)\n",
    "    else:\n",
    "        now = datetime.strptime(curr_day, dtformat) + timedelta(days=-1)\n",
    "    curr_day = now.strftime(dtformat)"
   ]
  },
  {
   "cell_type": "code",
   "execution_count": 43,
   "id": "d84fd6d5",
   "metadata": {},
   "outputs": [],
   "source": [
    "df_tweets = pd.concat(dfs).reset_index(drop=True)"
   ]
  },
  {
   "cell_type": "code",
   "execution_count": 44,
   "id": "d1eca6fc",
   "metadata": {},
   "outputs": [
    {
     "data": {
      "text/html": [
       "<div>\n",
       "<style scoped>\n",
       "    .dataframe tbody tr th:only-of-type {\n",
       "        vertical-align: middle;\n",
       "    }\n",
       "\n",
       "    .dataframe tbody tr th {\n",
       "        vertical-align: top;\n",
       "    }\n",
       "\n",
       "    .dataframe thead th {\n",
       "        text-align: right;\n",
       "    }\n",
       "</style>\n",
       "<table border=\"1\" class=\"dataframe\">\n",
       "  <thead>\n",
       "    <tr style=\"text-align: right;\">\n",
       "      <th></th>\n",
       "      <th>end time</th>\n",
       "      <th>actual time</th>\n",
       "      <th>tweet</th>\n",
       "    </tr>\n",
       "  </thead>\n",
       "  <tbody>\n",
       "    <tr>\n",
       "      <th>0</th>\n",
       "      <td>2021-11-29</td>\n",
       "      <td>2021-11-28T23:55:41.000Z</td>\n",
       "      <td>@pissedpant @Spencatro @CoinersTakingLs \"Oh no...</td>\n",
       "    </tr>\n",
       "    <tr>\n",
       "      <th>1</th>\n",
       "      <td>2021-11-29</td>\n",
       "      <td>2021-11-28T23:10:10.000Z</td>\n",
       "      <td>SmartOptions® Unusual Activity Alert\\n(Delayed...</td>\n",
       "    </tr>\n",
       "    <tr>\n",
       "      <th>2</th>\n",
       "      <td>2021-11-29</td>\n",
       "      <td>2021-11-28T22:56:49.000Z</td>\n",
       "      <td>RT @investwithbtm: Biggest stock declines from...</td>\n",
       "    </tr>\n",
       "  </tbody>\n",
       "</table>\n",
       "</div>"
      ],
      "text/plain": [
       "    end time               actual time  \\\n",
       "0 2021-11-29  2021-11-28T23:55:41.000Z   \n",
       "1 2021-11-29  2021-11-28T23:10:10.000Z   \n",
       "2 2021-11-29  2021-11-28T22:56:49.000Z   \n",
       "\n",
       "                                               tweet  \n",
       "0  @pissedpant @Spencatro @CoinersTakingLs \"Oh no...  \n",
       "1  SmartOptions® Unusual Activity Alert\\n(Delayed...  \n",
       "2  RT @investwithbtm: Biggest stock declines from...  "
      ]
     },
     "execution_count": 44,
     "metadata": {},
     "output_type": "execute_result"
    }
   ],
   "source": [
    "df_tweets.head(3)"
   ]
  },
  {
   "cell_type": "markdown",
   "id": "262e0f85",
   "metadata": {},
   "source": [
    "The end time for each row is nearest date from the (end date parameter). For example, if the tweets extracted were from May 23 (12 am) to May 23 (12 pm), such as May 23 (10 AM), the tweet will have a corresponding date of May 23. If the tweet is obtained from May 23 (12 PM) to May 24 (12 AM), the tweet will have the time stamp of May 24."
   ]
  },
  {
   "cell_type": "markdown",
   "id": "79dc6bfe",
   "metadata": {},
   "source": [
    "# Sentiment Analysis for Every Day"
   ]
  },
  {
   "cell_type": "code",
   "execution_count": 45,
   "id": "eddf0857",
   "metadata": {},
   "outputs": [
    {
     "name": "stdout",
     "output_type": "stream",
     "text": [
      "2021-11-29 11:24:22,404 loading file /Users/sohnnick/.flair/models/sentiment-en-mix-distillbert_4.pt\n"
     ]
    }
   ],
   "source": [
    "sentiment_model = flair.models.TextClassifier.load('en-sentiment')"
   ]
  },
  {
   "cell_type": "code",
   "execution_count": 47,
   "id": "511209a4",
   "metadata": {},
   "outputs": [
    {
     "name": "stderr",
     "output_type": "stream",
     "text": [
      "100%|██████████| 375/375 [00:35<00:00, 10.47it/s]\n"
     ]
    }
   ],
   "source": [
    "sent_score = []\n",
    "sent_val = []\n",
    "for tweet in tqdm(df_tweets['tweet']):\n",
    "    sentence = flair.data.Sentence(tweet)\n",
    "    sentiment_model.predict(sentence)\n",
    "    sent_val.append(sentence.labels[0].value)\n",
    "    \n",
    "    if sentence.labels[0].value == 'POSITIVE':\n",
    "        sent_score.append(sentence.labels[0].score)\n",
    "    else:\n",
    "        sent_score.append(-1*sentence.labels[0].score)"
   ]
  },
  {
   "cell_type": "code",
   "execution_count": 48,
   "id": "e6737620",
   "metadata": {},
   "outputs": [],
   "source": [
    "df_tweets['Sentiment Score'] = sent_score\n",
    "df_tweets['Sentiment Value'] = sent_val"
   ]
  },
  {
   "cell_type": "code",
   "execution_count": 49,
   "id": "9b116cb2",
   "metadata": {},
   "outputs": [],
   "source": [
    "scores_dict = dict(df_tweets.groupby('end time')['Sentiment Score'].mean())\n",
    "end_time = list(scores_dict.keys())\n",
    "mean_score = list(scores_dict.values())"
   ]
  },
  {
   "cell_type": "code",
   "execution_count": 50,
   "id": "a14815f2",
   "metadata": {},
   "outputs": [],
   "source": [
    "num_pos = list(df_tweets[\n",
    "    df_tweets['Sentiment Value'] == 'POSITIVE'].groupby(['end time', 'Sentiment Value'])['Sentiment Score'].count())\n",
    "count_tot = list(df_tweets.groupby('end time')['tweet'].count())\n",
    "per_pos = [pos/count for pos, count in zip(num_pos, count_tot)]"
   ]
  },
  {
   "cell_type": "code",
   "execution_count": 51,
   "id": "41695274",
   "metadata": {},
   "outputs": [],
   "source": [
    "sentiments_by_day = pd.DataFrame({\n",
    "    'End Time': end_time,\n",
    "    'Mean Score': mean_score,\n",
    "    'Percentage Positive': per_pos\n",
    "})"
   ]
  },
  {
   "cell_type": "code",
   "execution_count": 52,
   "id": "f9f4d431",
   "metadata": {},
   "outputs": [],
   "source": [
    "start_day_yf = sentiments_by_day['End Time'][0] + timedelta(days=-1)"
   ]
  },
  {
   "cell_type": "code",
   "execution_count": 23,
   "id": "d6e18975",
   "metadata": {},
   "outputs": [],
   "source": [
    "stock = yf.Ticker(\"AAPL\")\n",
    "df_stock = stock.history(\n",
    "#     start=datetime(start_day_yf.year, start_day_yf.month, start_day_yf.day),\n",
    "    start = start_day_yf,\n",
    "    interval='1d'\n",
    ").reset_index()"
   ]
  },
  {
   "cell_type": "code",
   "execution_count": 54,
   "id": "8f1a2f48",
   "metadata": {},
   "outputs": [
    {
     "data": {
      "text/html": [
       "<div>\n",
       "<style scoped>\n",
       "    .dataframe tbody tr th:only-of-type {\n",
       "        vertical-align: middle;\n",
       "    }\n",
       "\n",
       "    .dataframe tbody tr th {\n",
       "        vertical-align: top;\n",
       "    }\n",
       "\n",
       "    .dataframe thead th {\n",
       "        text-align: right;\n",
       "    }\n",
       "</style>\n",
       "<table border=\"1\" class=\"dataframe\">\n",
       "  <thead>\n",
       "    <tr style=\"text-align: right;\">\n",
       "      <th></th>\n",
       "      <th>Date</th>\n",
       "      <th>Stock Close</th>\n",
       "    </tr>\n",
       "  </thead>\n",
       "  <tbody>\n",
       "    <tr>\n",
       "      <th>0</th>\n",
       "      <td>2016-11-28</td>\n",
       "      <td>27.8925</td>\n",
       "    </tr>\n",
       "    <tr>\n",
       "      <th>1</th>\n",
       "      <td>2016-11-29</td>\n",
       "      <td>27.8650</td>\n",
       "    </tr>\n",
       "  </tbody>\n",
       "</table>\n",
       "</div>"
      ],
      "text/plain": [
       "         Date  Stock Close\n",
       "0  2016-11-28      27.8925\n",
       "1  2016-11-29      27.8650"
      ]
     },
     "execution_count": 54,
     "metadata": {},
     "output_type": "execute_result"
    }
   ],
   "source": [
    "df_stock.head(2)"
   ]
  },
  {
   "cell_type": "code",
   "execution_count": 53,
   "id": "8d4fcbb6",
   "metadata": {},
   "outputs": [
    {
     "data": {
      "text/html": [
       "<div>\n",
       "<style scoped>\n",
       "    .dataframe tbody tr th:only-of-type {\n",
       "        vertical-align: middle;\n",
       "    }\n",
       "\n",
       "    .dataframe tbody tr th {\n",
       "        vertical-align: top;\n",
       "    }\n",
       "\n",
       "    .dataframe thead th {\n",
       "        text-align: right;\n",
       "    }\n",
       "</style>\n",
       "<table border=\"1\" class=\"dataframe\">\n",
       "  <thead>\n",
       "    <tr style=\"text-align: right;\">\n",
       "      <th></th>\n",
       "      <th>End Time</th>\n",
       "      <th>Mean Score</th>\n",
       "      <th>Percentage Positive</th>\n",
       "    </tr>\n",
       "  </thead>\n",
       "  <tbody>\n",
       "    <tr>\n",
       "      <th>0</th>\n",
       "      <td>2021-11-24</td>\n",
       "      <td>-0.354533</td>\n",
       "      <td>0.333333</td>\n",
       "    </tr>\n",
       "    <tr>\n",
       "      <th>1</th>\n",
       "      <td>2021-11-25</td>\n",
       "      <td>-0.351076</td>\n",
       "      <td>0.326923</td>\n",
       "    </tr>\n",
       "    <tr>\n",
       "      <th>2</th>\n",
       "      <td>2021-11-26</td>\n",
       "      <td>-0.238891</td>\n",
       "      <td>0.387755</td>\n",
       "    </tr>\n",
       "  </tbody>\n",
       "</table>\n",
       "</div>"
      ],
      "text/plain": [
       "    End Time  Mean Score  Percentage Positive\n",
       "0 2021-11-24   -0.354533             0.333333\n",
       "1 2021-11-25   -0.351076             0.326923\n",
       "2 2021-11-26   -0.238891             0.387755"
      ]
     },
     "execution_count": 53,
     "metadata": {},
     "output_type": "execute_result"
    }
   ],
   "source": [
    "sentiments_by_day.head(3)"
   ]
  },
  {
   "cell_type": "code",
   "execution_count": 55,
   "id": "1130834f",
   "metadata": {},
   "outputs": [
    {
     "data": {
      "text/plain": [
       "[<matplotlib.lines.Line2D at 0x7fd2b2232650>]"
      ]
     },
     "execution_count": 55,
     "metadata": {},
     "output_type": "execute_result"
    },
    {
     "data": {
      "image/png": "[encoded data removed]",
      "text/plain": [
       "<Figure size 576x288 with 1 Axes>"
      ]
     },
     "metadata": {
      "needs_background": "light"
     },
     "output_type": "display_data"
    }
   ],
   "source": [
    "plt.figure(figsize=(8,4))\n",
    "plt.plot(sentiments_by_day['End Time'], sentiments_by_day['Mean Score'], color='red')\n",
    "plt.plot(sentiments_by_day['End Time'], sentiments_by_day['Percentage Positive'], color='blue')"
   ]
  },
  {
   "cell_type": "code",
   "execution_count": 59,
   "id": "04f3daf3",
   "metadata": {},
   "outputs": [
    {
     "data": {
      "text/plain": [
       "[<matplotlib.lines.Line2D at 0x7fd26d02e350>]"
      ]
     },
     "execution_count": 59,
     "metadata": {},
     "output_type": "execute_result"
    },
    {
     "data": {
      "image/png": "[encoded data removed]",
      "text/plain": [
       "<Figure size 576x288 with 1 Axes>"
      ]
     },
     "metadata": {
      "needs_background": "light"
     },
     "output_type": "display_data"
    }
   ],
   "source": [
    "plt.figure(figsize=(8,4))\n",
    "plt.plot(df_stock['Date'], df_stock['Stock Close'])"
   ]
  },
  {
   "cell_type": "markdown",
   "id": "1f78c442",
   "metadata": {},
   "source": [
    "# Neural Network + Linear Regression Initialize"
   ]
  },
  {
   "cell_type": "code",
   "execution_count": 30,
   "id": "04441452",
   "metadata": {},
   "outputs": [
    {
     "name": "stderr",
     "output_type": "stream",
     "text": [
      "Using TensorFlow backend.\n"
     ]
    },
    {
     "name": "stdout",
     "output_type": "stream",
     "text": [
      "WARNING:tensorflow:From /opt/anaconda3/lib/python3.7/site-packages/keras/backend/tensorflow_backend.py:66: The name tf.get_default_graph is deprecated. Please use tf.compat.v1.get_default_graph instead.\n",
      "\n",
      "WARNING:tensorflow:From /opt/anaconda3/lib/python3.7/site-packages/keras/backend/tensorflow_backend.py:541: The name tf.placeholder is deprecated. Please use tf.compat.v1.placeholder instead.\n",
      "\n",
      "WARNING:tensorflow:From /opt/anaconda3/lib/python3.7/site-packages/keras/backend/tensorflow_backend.py:4432: The name tf.random_uniform is deprecated. Please use tf.random.uniform instead.\n",
      "\n",
      "WARNING:tensorflow:From /opt/anaconda3/lib/python3.7/site-packages/keras/backend/tensorflow_backend.py:190: The name tf.get_default_session is deprecated. Please use tf.compat.v1.get_default_session instead.\n",
      "\n",
      "WARNING:tensorflow:From /opt/anaconda3/lib/python3.7/site-packages/keras/backend/tensorflow_backend.py:197: The name tf.ConfigProto is deprecated. Please use tf.compat.v1.ConfigProto instead.\n",
      "\n",
      "WARNING:tensorflow:From /opt/anaconda3/lib/python3.7/site-packages/keras/optimizers.py:793: The name tf.train.Optimizer is deprecated. Please use tf.compat.v1.train.Optimizer instead.\n",
      "\n",
      "WARNING:tensorflow:From /opt/anaconda3/lib/python3.7/site-packages/tensorflow/python/ops/math_grad.py:1250: add_dispatch_support.<locals>.wrapper (from tensorflow.python.ops.array_ops) is deprecated and will be removed in a future version.\n",
      "Instructions for updating:\n",
      "Use tf.where in 2.0, which has the same broadcast rule as np.where\n"
     ]
    }
   ],
   "source": [
    "loaded_model = pickle.load(open('../Models/aapl_model', 'rb'))"
   ]
  },
  {
   "cell_type": "code",
   "execution_count": 160,
   "id": "3372101e",
   "metadata": {},
   "outputs": [],
   "source": [
    "scaler = joblib.load('../Models/aapl_scaler')"
   ]
  },
  {
   "cell_type": "code",
   "execution_count": 83,
   "id": "90dce142",
   "metadata": {},
   "outputs": [],
   "source": [
    "ticker = \"AAPL\""
   ]
  },
  {
   "cell_type": "code",
   "execution_count": 84,
   "id": "bc3a502d",
   "metadata": {},
   "outputs": [],
   "source": [
    "url = 'https://stock-price-predictor-af4ea-default-rtdb.firebaseio.com/'\n",
    "ticker_get_url = url + ticker + '.json'\n",
    "\n",
    "response = requests.get( ticker_get_url )\n",
    "stock_dict = dict(response.json())\n",
    "\n",
    "df_stock = pd.DataFrame({\n",
    "    \"Date\": stock_dict['Stock Dates'],\n",
    "    \"Stock Close\": stock_dict['Stock Close']\n",
    "})"
   ]
  },
  {
   "cell_type": "code",
   "execution_count": 96,
   "id": "1ba303ef",
   "metadata": {},
   "outputs": [],
   "source": [
    "# extract earliest necessary data for all sentiment dates\n",
    "date_flag = True\n",
    "while(date_flag):\n",
    "    earliest_sentiment = min(sentiments_by_day['End Time'])\n",
    "    earliest_sentiment_str = (str(earliest_sentiment.year) + '-' \n",
    "                          + str(earliest_sentiment.month) + '-' + str(earliest_sentiment.day))\n",
    "    \n",
    "    collect = df_stock[df_stock['Date'] == earliest_sentiment_str]\n",
    "    \n",
    "    if (len(collect) > 0):\n",
    "        date_flag = False\n",
    "        \n",
    "        index_earliest = df_stock[df_stock['Date'] == earliest_sentiment_str].index[0]\n",
    "        df_stock_filt = df_stock.iloc[index_earliest-60:]\n",
    "        \n",
    "        break\n",
    "        \n",
    "    earliest_sentiment = earliest_sentiment + timedelta(days=1)"
   ]
  },
  {
   "cell_type": "code",
   "execution_count": 178,
   "id": "815a4c00",
   "metadata": {},
   "outputs": [],
   "source": [
    "x = []\n",
    "y = []\n",
    "dates = []\n",
    "\n",
    "for i in range(60,len(df_stock_filt)):\n",
    "    days_60 = np.array(df_stock_filt[i-60:i]['Stock Close']).reshape(-1,1)\n",
    "    days_60 = scaler.transform(days_60)\n",
    "    x.append(days_60)\n",
    "    \n",
    "    date = df_stock_filt.iloc[i].values[0]\n",
    "    close = df_stock_filt.iloc[i].values[1]\n",
    "             \n",
    "    y.append(close)\n",
    "    dates.append(date)\n",
    "\n",
    "dict_nn = {\n",
    "    'date': dates,\n",
    "    'x_input': x,\n",
    "    'stock close': y\n",
    "}"
   ]
  },
  {
   "cell_type": "code",
   "execution_count": 185,
   "id": "9635a909",
   "metadata": {},
   "outputs": [],
   "source": [
    "pred = loaded_model.predict(np.array(dict_nn['x_input']).reshape(-1, 60, 1))\n",
    "pred = list(scaler.inverse_transform(pred).reshape(-1))"
   ]
  },
  {
   "cell_type": "code",
   "execution_count": 193,
   "id": "2cbedfe5",
   "metadata": {},
   "outputs": [],
   "source": [
    "df_pred = pd.DataFrame({\n",
    "    'nn pred close': pred,\n",
    "    'stock close': dict_nn['stock close']\n",
    "})"
   ]
  },
  {
   "cell_type": "code",
   "execution_count": 198,
   "id": "267a1de1",
   "metadata": {},
   "outputs": [],
   "source": [
    "df_analysis = sentiments_by_day[sentiments_by_day['End Time'].isin(dict_nn['date'])].reset_index(drop=True)"
   ]
  },
  {
   "cell_type": "code",
   "execution_count": 201,
   "id": "6fb911dc",
   "metadata": {},
   "outputs": [],
   "source": [
    "df_sent_pred = pd.concat([df_analysis, df_pred], axis=1)"
   ]
  },
  {
   "cell_type": "code",
   "execution_count": 204,
   "id": "b5a94418",
   "metadata": {},
   "outputs": [],
   "source": [
    "x_lr = df_sent_pred[['Mean Score', 'Percentage Positive', 'nn pred close']]\n",
    "y_lr = df_sent_pred['stock close']"
   ]
  },
  {
   "cell_type": "code",
   "execution_count": 209,
   "id": "8d50f248",
   "metadata": {},
   "outputs": [],
   "source": [
    "lr = LinearRegression()"
   ]
  },
  {
   "cell_type": "code",
   "execution_count": 210,
   "id": "e0702f4e",
   "metadata": {},
   "outputs": [
    {
     "data": {
      "text/plain": [
       "LinearRegression()"
      ]
     },
     "execution_count": 210,
     "metadata": {},
     "output_type": "execute_result"
    }
   ],
   "source": [
    "lr.fit(x_lr, y_lr)"
   ]
  },
  {
   "cell_type": "markdown",
   "id": "bbb1a1d5",
   "metadata": {},
   "source": [
    "# Predict the Next 7 Days"
   ]
  },
  {
   "cell_type": "code",
   "execution_count": 232,
   "id": "6f01d6dc",
   "metadata": {},
   "outputs": [
    {
     "data": {
      "text/plain": [
       "array([161.94000244, 156.80999756, 160.72999573])"
      ]
     },
     "execution_count": 232,
     "metadata": {},
     "output_type": "execute_result"
    }
   ],
   "source": [
    "lr.predict(x_lr)"
   ]
  },
  {
   "cell_type": "code",
   "execution_count": 231,
   "id": "529aab2c",
   "metadata": {},
   "outputs": [
    {
     "data": {
      "text/html": [
       "<div>\n",
       "<style scoped>\n",
       "    .dataframe tbody tr th:only-of-type {\n",
       "        vertical-align: middle;\n",
       "    }\n",
       "\n",
       "    .dataframe tbody tr th {\n",
       "        vertical-align: top;\n",
       "    }\n",
       "\n",
       "    .dataframe thead th {\n",
       "        text-align: right;\n",
       "    }\n",
       "</style>\n",
       "<table border=\"1\" class=\"dataframe\">\n",
       "  <thead>\n",
       "    <tr style=\"text-align: right;\">\n",
       "      <th></th>\n",
       "      <th>End Time</th>\n",
       "      <th>Mean Score</th>\n",
       "      <th>Percentage Positive</th>\n",
       "      <th>nn pred close</th>\n",
       "      <th>stock close</th>\n",
       "    </tr>\n",
       "  </thead>\n",
       "  <tbody>\n",
       "    <tr>\n",
       "      <th>0</th>\n",
       "      <td>2021-11-24</td>\n",
       "      <td>-0.354533</td>\n",
       "      <td>0.333333</td>\n",
       "      <td>154.306885</td>\n",
       "      <td>161.940002</td>\n",
       "    </tr>\n",
       "    <tr>\n",
       "      <th>1</th>\n",
       "      <td>2021-11-26</td>\n",
       "      <td>-0.238891</td>\n",
       "      <td>0.387755</td>\n",
       "      <td>155.720932</td>\n",
       "      <td>156.809998</td>\n",
       "    </tr>\n",
       "    <tr>\n",
       "      <th>2</th>\n",
       "      <td>2021-11-29</td>\n",
       "      <td>-0.267998</td>\n",
       "      <td>0.367816</td>\n",
       "      <td>156.427048</td>\n",
       "      <td>160.729996</td>\n",
       "    </tr>\n",
       "  </tbody>\n",
       "</table>\n",
       "</div>"
      ],
      "text/plain": [
       "    End Time  Mean Score  Percentage Positive  nn pred close  stock close\n",
       "0 2021-11-24   -0.354533             0.333333     154.306885   161.940002\n",
       "1 2021-11-26   -0.238891             0.387755     155.720932   156.809998\n",
       "2 2021-11-29   -0.267998             0.367816     156.427048   160.729996"
      ]
     },
     "execution_count": 231,
     "metadata": {},
     "output_type": "execute_result"
    }
   ],
   "source": [
    "df_sent_pred"
   ]
  },
  {
   "cell_type": "code",
   "execution_count": 235,
   "id": "2a1951da",
   "metadata": {},
   "outputs": [
    {
     "data": {
      "text/html": [
       "<div>\n",
       "<style scoped>\n",
       "    .dataframe tbody tr th:only-of-type {\n",
       "        vertical-align: middle;\n",
       "    }\n",
       "\n",
       "    .dataframe tbody tr th {\n",
       "        vertical-align: top;\n",
       "    }\n",
       "\n",
       "    .dataframe thead th {\n",
       "        text-align: right;\n",
       "    }\n",
       "</style>\n",
       "<table border=\"1\" class=\"dataframe\">\n",
       "  <thead>\n",
       "    <tr style=\"text-align: right;\">\n",
       "      <th></th>\n",
       "      <th>Date</th>\n",
       "      <th>Stock Close</th>\n",
       "    </tr>\n",
       "  </thead>\n",
       "  <tbody>\n",
       "    <tr>\n",
       "      <th>1256</th>\n",
       "      <td>2021-11-24</td>\n",
       "      <td>161.940002</td>\n",
       "    </tr>\n",
       "    <tr>\n",
       "      <th>1257</th>\n",
       "      <td>2021-11-26</td>\n",
       "      <td>156.809998</td>\n",
       "    </tr>\n",
       "    <tr>\n",
       "      <th>1258</th>\n",
       "      <td>2021-11-29</td>\n",
       "      <td>160.729996</td>\n",
       "    </tr>\n",
       "  </tbody>\n",
       "</table>\n",
       "</div>"
      ],
      "text/plain": [
       "            Date  Stock Close\n",
       "1256  2021-11-24   161.940002\n",
       "1257  2021-11-26   156.809998\n",
       "1258  2021-11-29   160.729996"
      ]
     },
     "execution_count": 235,
     "metadata": {},
     "output_type": "execute_result"
    }
   ],
   "source": [
    "df_stock[len(df_sent_pred)-60:].tail(3)"
   ]
  },
  {
   "cell_type": "code",
   "execution_count": 223,
   "id": "0ac0c1c9",
   "metadata": {},
   "outputs": [
    {
     "data": {
      "text/plain": [
       "End Time               2021-11-29 00:00:00\n",
       "Mean Score                       -0.267998\n",
       "Percentage Positive               0.367816\n",
       "nn pred close                   156.427048\n",
       "stock close                     160.729996\n",
       "Name: 2, dtype: object"
      ]
     },
     "execution_count": 223,
     "metadata": {},
     "output_type": "execute_result"
    }
   ],
   "source": [
    "df_sent_pred.iloc[len(df_sent_pred)-1]"
   ]
  },
  {
   "cell_type": "code",
   "execution_count": 219,
   "id": "8b8a6497",
   "metadata": {},
   "outputs": [
    {
     "data": {
      "text/plain": [
       "1259"
      ]
     },
     "execution_count": 219,
     "metadata": {},
     "output_type": "execute_result"
    }
   ],
   "source": [
    "len(df_stock)"
   ]
  },
  {
   "cell_type": "code",
   "execution_count": 248,
   "id": "5e0287cd",
   "metadata": {},
   "outputs": [],
   "source": [
    "temp = list(dict_nn['x_input'][0].reshape(-1))"
   ]
  },
  {
   "cell_type": "code",
   "execution_count": 250,
   "id": "c68628b6",
   "metadata": {},
   "outputs": [
    {
     "data": {
      "text/plain": [
       "0.9249234164038622"
      ]
     },
     "execution_count": 250,
     "metadata": {},
     "output_type": "execute_result"
    }
   ],
   "source": [
    "temp.pop(0)"
   ]
  },
  {
   "cell_type": "code",
   "execution_count": 252,
   "id": "421da948",
   "metadata": {},
   "outputs": [],
   "source": [
    "temp.append(3)"
   ]
  },
  {
   "cell_type": "code",
   "execution_count": 253,
   "id": "ecc07634",
   "metadata": {},
   "outputs": [
    {
     "data": {
      "text/plain": [
       "[0.9299730231186019,\n",
       " 0.9384386269078691,\n",
       " 0.9432655768324987,\n",
       " 0.961013645886811,\n",
       " 0.9492805961944328,\n",
       " 0.9415576349509065,\n",
       " 0.9036851313449854,\n",
       " 0.9079922088253276,\n",
       " 0.8973730096402175,\n",
       " 0.9041306715478927,\n",
       " 0.9023483974249205,\n",
       " 0.8820755250132384,\n",
       " 0.858906527971316,\n",
       " 0.8625451818359537,\n",
       " 0.8805161343030632,\n",
       " 0.8877935553436822,\n",
       " 0.888461865648043,\n",
       " 0.8769515860571184,\n",
       " 0.8512577856578263,\n",
       " 0.8580896664955382,\n",
       " 0.8482131098561692,\n",
       " 0.856752932575473,\n",
       " 0.8306878109033105,\n",
       " 0.8453169852259288,\n",
       " 0.851926095962187,\n",
       " 0.8615055502587223,\n",
       " 0.858609425628482,\n",
       " 0.8579411153241212,\n",
       " 0.8482873287862058,\n",
       " 0.8438318134457903,\n",
       " 0.8649957662632868,\n",
       " 0.8730158298496469,\n",
       " 0.8857142921892196,\n",
       " 0.9021256273234668,\n",
       " 0.9058386134294847,\n",
       " 0.9074723363810402,\n",
       " 0.901605868190523,\n",
       " 0.9012345469176524,\n",
       " 0.9062842669437354,\n",
       " 0.9027940509391712,\n",
       " 0.9304186766328526,\n",
       " 0.9098487018783366,\n",
       " 0.9036109124149487,\n",
       " 0.9114824248298921,\n",
       " 0.9223986130464925,\n",
       " 0.9184628568390207,\n",
       " 0.9208391090249737,\n",
       " 0.9146013195615859,\n",
       " 0.9173488930204092,\n",
       " 0.895887837860079,\n",
       " 0.8955165165872085,\n",
       " 0.9112596547284384,\n",
       " 0.9113338736584751,\n",
       " 0.9187598458705111,\n",
       " 0.9372505574705645,\n",
       " 0.9697762387075686,\n",
       " 0.9896779031577236,\n",
       " 0.9931681191622881,\n",
       " 0.9960642437925284,\n",
       " 3]"
      ]
     },
     "execution_count": 253,
     "metadata": {},
     "output_type": "execute_result"
    }
   ],
   "source": [
    "temp"
   ]
  },
  {
   "cell_type": "code",
   "execution_count": 258,
   "id": "40adef53",
   "metadata": {},
   "outputs": [
    {
     "data": {
      "text/html": [
       "<div>\n",
       "<style scoped>\n",
       "    .dataframe tbody tr th:only-of-type {\n",
       "        vertical-align: middle;\n",
       "    }\n",
       "\n",
       "    .dataframe tbody tr th {\n",
       "        vertical-align: top;\n",
       "    }\n",
       "\n",
       "    .dataframe thead th {\n",
       "        text-align: right;\n",
       "    }\n",
       "</style>\n",
       "<table border=\"1\" class=\"dataframe\">\n",
       "  <thead>\n",
       "    <tr style=\"text-align: right;\">\n",
       "      <th></th>\n",
       "      <th>Date</th>\n",
       "      <th>Stock Close</th>\n",
       "    </tr>\n",
       "  </thead>\n",
       "  <tbody>\n",
       "    <tr>\n",
       "      <th>1199</th>\n",
       "      <td>2021-9-3</td>\n",
       "      <td>154.300003</td>\n",
       "    </tr>\n",
       "    <tr>\n",
       "      <th>1200</th>\n",
       "      <td>2021-9-7</td>\n",
       "      <td>156.690002</td>\n",
       "    </tr>\n",
       "    <tr>\n",
       "      <th>1201</th>\n",
       "      <td>2021-9-8</td>\n",
       "      <td>155.110001</td>\n",
       "    </tr>\n",
       "    <tr>\n",
       "      <th>1202</th>\n",
       "      <td>2021-9-9</td>\n",
       "      <td>154.070007</td>\n",
       "    </tr>\n",
       "    <tr>\n",
       "      <th>1203</th>\n",
       "      <td>2021-9-10</td>\n",
       "      <td>148.970001</td>\n",
       "    </tr>\n",
       "    <tr>\n",
       "      <th>1204</th>\n",
       "      <td>2021-9-13</td>\n",
       "      <td>149.550003</td>\n",
       "    </tr>\n",
       "    <tr>\n",
       "      <th>1205</th>\n",
       "      <td>2021-9-14</td>\n",
       "      <td>148.119995</td>\n",
       "    </tr>\n",
       "    <tr>\n",
       "      <th>1206</th>\n",
       "      <td>2021-9-15</td>\n",
       "      <td>149.029999</td>\n",
       "    </tr>\n",
       "    <tr>\n",
       "      <th>1207</th>\n",
       "      <td>2021-9-16</td>\n",
       "      <td>148.789993</td>\n",
       "    </tr>\n",
       "    <tr>\n",
       "      <th>1208</th>\n",
       "      <td>2021-9-17</td>\n",
       "      <td>146.059998</td>\n",
       "    </tr>\n",
       "    <tr>\n",
       "      <th>1209</th>\n",
       "      <td>2021-9-20</td>\n",
       "      <td>142.940002</td>\n",
       "    </tr>\n",
       "    <tr>\n",
       "      <th>1210</th>\n",
       "      <td>2021-9-21</td>\n",
       "      <td>143.429993</td>\n",
       "    </tr>\n",
       "    <tr>\n",
       "      <th>1211</th>\n",
       "      <td>2021-9-22</td>\n",
       "      <td>145.850006</td>\n",
       "    </tr>\n",
       "    <tr>\n",
       "      <th>1212</th>\n",
       "      <td>2021-9-23</td>\n",
       "      <td>146.830002</td>\n",
       "    </tr>\n",
       "    <tr>\n",
       "      <th>1213</th>\n",
       "      <td>2021-9-24</td>\n",
       "      <td>146.919998</td>\n",
       "    </tr>\n",
       "    <tr>\n",
       "      <th>1214</th>\n",
       "      <td>2021-9-27</td>\n",
       "      <td>145.369995</td>\n",
       "    </tr>\n",
       "    <tr>\n",
       "      <th>1215</th>\n",
       "      <td>2021-9-28</td>\n",
       "      <td>141.910004</td>\n",
       "    </tr>\n",
       "    <tr>\n",
       "      <th>1216</th>\n",
       "      <td>2021-9-29</td>\n",
       "      <td>142.830002</td>\n",
       "    </tr>\n",
       "    <tr>\n",
       "      <th>1217</th>\n",
       "      <td>2021-9-30</td>\n",
       "      <td>141.500000</td>\n",
       "    </tr>\n",
       "    <tr>\n",
       "      <th>1218</th>\n",
       "      <td>2021-10-1</td>\n",
       "      <td>142.649994</td>\n",
       "    </tr>\n",
       "    <tr>\n",
       "      <th>1219</th>\n",
       "      <td>2021-10-4</td>\n",
       "      <td>139.139999</td>\n",
       "    </tr>\n",
       "    <tr>\n",
       "      <th>1220</th>\n",
       "      <td>2021-10-5</td>\n",
       "      <td>141.110001</td>\n",
       "    </tr>\n",
       "    <tr>\n",
       "      <th>1221</th>\n",
       "      <td>2021-10-6</td>\n",
       "      <td>142.000000</td>\n",
       "    </tr>\n",
       "    <tr>\n",
       "      <th>1222</th>\n",
       "      <td>2021-10-7</td>\n",
       "      <td>143.289993</td>\n",
       "    </tr>\n",
       "    <tr>\n",
       "      <th>1223</th>\n",
       "      <td>2021-10-8</td>\n",
       "      <td>142.899994</td>\n",
       "    </tr>\n",
       "    <tr>\n",
       "      <th>1224</th>\n",
       "      <td>2021-10-11</td>\n",
       "      <td>142.809998</td>\n",
       "    </tr>\n",
       "    <tr>\n",
       "      <th>1225</th>\n",
       "      <td>2021-10-12</td>\n",
       "      <td>141.509995</td>\n",
       "    </tr>\n",
       "    <tr>\n",
       "      <th>1226</th>\n",
       "      <td>2021-10-13</td>\n",
       "      <td>140.910004</td>\n",
       "    </tr>\n",
       "    <tr>\n",
       "      <th>1227</th>\n",
       "      <td>2021-10-14</td>\n",
       "      <td>143.759995</td>\n",
       "    </tr>\n",
       "    <tr>\n",
       "      <th>1228</th>\n",
       "      <td>2021-10-15</td>\n",
       "      <td>144.839996</td>\n",
       "    </tr>\n",
       "    <tr>\n",
       "      <th>1229</th>\n",
       "      <td>2021-10-18</td>\n",
       "      <td>146.550003</td>\n",
       "    </tr>\n",
       "    <tr>\n",
       "      <th>1230</th>\n",
       "      <td>2021-10-19</td>\n",
       "      <td>148.759995</td>\n",
       "    </tr>\n",
       "    <tr>\n",
       "      <th>1231</th>\n",
       "      <td>2021-10-20</td>\n",
       "      <td>149.259995</td>\n",
       "    </tr>\n",
       "    <tr>\n",
       "      <th>1232</th>\n",
       "      <td>2021-10-21</td>\n",
       "      <td>149.479996</td>\n",
       "    </tr>\n",
       "    <tr>\n",
       "      <th>1233</th>\n",
       "      <td>2021-10-22</td>\n",
       "      <td>148.690002</td>\n",
       "    </tr>\n",
       "    <tr>\n",
       "      <th>1234</th>\n",
       "      <td>2021-10-25</td>\n",
       "      <td>148.639999</td>\n",
       "    </tr>\n",
       "    <tr>\n",
       "      <th>1235</th>\n",
       "      <td>2021-10-26</td>\n",
       "      <td>149.320007</td>\n",
       "    </tr>\n",
       "    <tr>\n",
       "      <th>1236</th>\n",
       "      <td>2021-10-27</td>\n",
       "      <td>148.850006</td>\n",
       "    </tr>\n",
       "    <tr>\n",
       "      <th>1237</th>\n",
       "      <td>2021-10-28</td>\n",
       "      <td>152.570007</td>\n",
       "    </tr>\n",
       "    <tr>\n",
       "      <th>1238</th>\n",
       "      <td>2021-10-29</td>\n",
       "      <td>149.800003</td>\n",
       "    </tr>\n",
       "    <tr>\n",
       "      <th>1239</th>\n",
       "      <td>2021-11-1</td>\n",
       "      <td>148.960007</td>\n",
       "    </tr>\n",
       "    <tr>\n",
       "      <th>1240</th>\n",
       "      <td>2021-11-2</td>\n",
       "      <td>150.020004</td>\n",
       "    </tr>\n",
       "    <tr>\n",
       "      <th>1241</th>\n",
       "      <td>2021-11-3</td>\n",
       "      <td>151.490005</td>\n",
       "    </tr>\n",
       "    <tr>\n",
       "      <th>1242</th>\n",
       "      <td>2021-11-4</td>\n",
       "      <td>150.960007</td>\n",
       "    </tr>\n",
       "    <tr>\n",
       "      <th>1243</th>\n",
       "      <td>2021-11-5</td>\n",
       "      <td>151.279999</td>\n",
       "    </tr>\n",
       "    <tr>\n",
       "      <th>1244</th>\n",
       "      <td>2021-11-8</td>\n",
       "      <td>150.440002</td>\n",
       "    </tr>\n",
       "    <tr>\n",
       "      <th>1245</th>\n",
       "      <td>2021-11-9</td>\n",
       "      <td>150.809998</td>\n",
       "    </tr>\n",
       "    <tr>\n",
       "      <th>1246</th>\n",
       "      <td>2021-11-10</td>\n",
       "      <td>147.919998</td>\n",
       "    </tr>\n",
       "    <tr>\n",
       "      <th>1247</th>\n",
       "      <td>2021-11-11</td>\n",
       "      <td>147.869995</td>\n",
       "    </tr>\n",
       "    <tr>\n",
       "      <th>1248</th>\n",
       "      <td>2021-11-12</td>\n",
       "      <td>149.990005</td>\n",
       "    </tr>\n",
       "    <tr>\n",
       "      <th>1249</th>\n",
       "      <td>2021-11-15</td>\n",
       "      <td>150.000000</td>\n",
       "    </tr>\n",
       "    <tr>\n",
       "      <th>1250</th>\n",
       "      <td>2021-11-16</td>\n",
       "      <td>151.000000</td>\n",
       "    </tr>\n",
       "    <tr>\n",
       "      <th>1251</th>\n",
       "      <td>2021-11-17</td>\n",
       "      <td>153.490005</td>\n",
       "    </tr>\n",
       "    <tr>\n",
       "      <th>1252</th>\n",
       "      <td>2021-11-18</td>\n",
       "      <td>157.869995</td>\n",
       "    </tr>\n",
       "    <tr>\n",
       "      <th>1253</th>\n",
       "      <td>2021-11-19</td>\n",
       "      <td>160.550003</td>\n",
       "    </tr>\n",
       "    <tr>\n",
       "      <th>1254</th>\n",
       "      <td>2021-11-22</td>\n",
       "      <td>161.020004</td>\n",
       "    </tr>\n",
       "    <tr>\n",
       "      <th>1255</th>\n",
       "      <td>2021-11-23</td>\n",
       "      <td>161.410004</td>\n",
       "    </tr>\n",
       "    <tr>\n",
       "      <th>1256</th>\n",
       "      <td>2021-11-24</td>\n",
       "      <td>161.940002</td>\n",
       "    </tr>\n",
       "    <tr>\n",
       "      <th>1257</th>\n",
       "      <td>2021-11-26</td>\n",
       "      <td>156.809998</td>\n",
       "    </tr>\n",
       "    <tr>\n",
       "      <th>1258</th>\n",
       "      <td>2021-11-29</td>\n",
       "      <td>160.729996</td>\n",
       "    </tr>\n",
       "  </tbody>\n",
       "</table>\n",
       "</div>"
      ],
      "text/plain": [
       "            Date  Stock Close\n",
       "1199    2021-9-3   154.300003\n",
       "1200    2021-9-7   156.690002\n",
       "1201    2021-9-8   155.110001\n",
       "1202    2021-9-9   154.070007\n",
       "1203   2021-9-10   148.970001\n",
       "1204   2021-9-13   149.550003\n",
       "1205   2021-9-14   148.119995\n",
       "1206   2021-9-15   149.029999\n",
       "1207   2021-9-16   148.789993\n",
       "1208   2021-9-17   146.059998\n",
       "1209   2021-9-20   142.940002\n",
       "1210   2021-9-21   143.429993\n",
       "1211   2021-9-22   145.850006\n",
       "1212   2021-9-23   146.830002\n",
       "1213   2021-9-24   146.919998\n",
       "1214   2021-9-27   145.369995\n",
       "1215   2021-9-28   141.910004\n",
       "1216   2021-9-29   142.830002\n",
       "1217   2021-9-30   141.500000\n",
       "1218   2021-10-1   142.649994\n",
       "1219   2021-10-4   139.139999\n",
       "1220   2021-10-5   141.110001\n",
       "1221   2021-10-6   142.000000\n",
       "1222   2021-10-7   143.289993\n",
       "1223   2021-10-8   142.899994\n",
       "1224  2021-10-11   142.809998\n",
       "1225  2021-10-12   141.509995\n",
       "1226  2021-10-13   140.910004\n",
       "1227  2021-10-14   143.759995\n",
       "1228  2021-10-15   144.839996\n",
       "1229  2021-10-18   146.550003\n",
       "1230  2021-10-19   148.759995\n",
       "1231  2021-10-20   149.259995\n",
       "1232  2021-10-21   149.479996\n",
       "1233  2021-10-22   148.690002\n",
       "1234  2021-10-25   148.639999\n",
       "1235  2021-10-26   149.320007\n",
       "1236  2021-10-27   148.850006\n",
       "1237  2021-10-28   152.570007\n",
       "1238  2021-10-29   149.800003\n",
       "1239   2021-11-1   148.960007\n",
       "1240   2021-11-2   150.020004\n",
       "1241   2021-11-3   151.490005\n",
       "1242   2021-11-4   150.960007\n",
       "1243   2021-11-5   151.279999\n",
       "1244   2021-11-8   150.440002\n",
       "1245   2021-11-9   150.809998\n",
       "1246  2021-11-10   147.919998\n",
       "1247  2021-11-11   147.869995\n",
       "1248  2021-11-12   149.990005\n",
       "1249  2021-11-15   150.000000\n",
       "1250  2021-11-16   151.000000\n",
       "1251  2021-11-17   153.490005\n",
       "1252  2021-11-18   157.869995\n",
       "1253  2021-11-19   160.550003\n",
       "1254  2021-11-22   161.020004\n",
       "1255  2021-11-23   161.410004\n",
       "1256  2021-11-24   161.940002\n",
       "1257  2021-11-26   156.809998\n",
       "1258  2021-11-29   160.729996"
      ]
     },
     "execution_count": 258,
     "metadata": {},
     "output_type": "execute_result"
    }
   ],
   "source": [
    "df_stock[len(df_stock)-60:len(df_stock)]"
   ]
  },
  {
   "cell_type": "code",
   "execution_count": 256,
   "id": "be887a4b",
   "metadata": {},
   "outputs": [
    {
     "data": {
      "text/plain": [
       "1259"
      ]
     },
     "execution_count": 256,
     "metadata": {},
     "output_type": "execute_result"
    }
   ],
   "source": [
    "len(df_stock)"
   ]
  },
  {
   "cell_type": "code",
   "execution_count": 257,
   "id": "7283e7e1",
   "metadata": {},
   "outputs": [
    {
     "data": {
      "text/html": [
       "<div>\n",
       "<style scoped>\n",
       "    .dataframe tbody tr th:only-of-type {\n",
       "        vertical-align: middle;\n",
       "    }\n",
       "\n",
       "    .dataframe tbody tr th {\n",
       "        vertical-align: top;\n",
       "    }\n",
       "\n",
       "    .dataframe thead th {\n",
       "        text-align: right;\n",
       "    }\n",
       "</style>\n",
       "<table border=\"1\" class=\"dataframe\">\n",
       "  <thead>\n",
       "    <tr style=\"text-align: right;\">\n",
       "      <th></th>\n",
       "      <th>Date</th>\n",
       "      <th>Stock Close</th>\n",
       "    </tr>\n",
       "  </thead>\n",
       "  <tbody>\n",
       "    <tr>\n",
       "      <th>3</th>\n",
       "      <td>2016-12-2</td>\n",
       "      <td>27.4750</td>\n",
       "    </tr>\n",
       "    <tr>\n",
       "      <th>4</th>\n",
       "      <td>2016-12-5</td>\n",
       "      <td>27.2775</td>\n",
       "    </tr>\n",
       "  </tbody>\n",
       "</table>\n",
       "</div>"
      ],
      "text/plain": [
       "        Date  Stock Close\n",
       "3  2016-12-2      27.4750\n",
       "4  2016-12-5      27.2775"
      ]
     },
     "execution_count": 257,
     "metadata": {},
     "output_type": "execute_result"
    }
   ],
   "source": [
    "df_stock[3:5]"
   ]
  },
  {
   "cell_type": "code",
   "execution_count": null,
   "id": "28a9120d",
   "metadata": {},
   "outputs": [],
   "source": []
  }
 ],
 "metadata": {
  "kernelspec": {
   "display_name": "Python 3",
   "language": "python",
   "name": "python3"
  },
  "language_info": {
   "codemirror_mode": {
    "name": "ipython",
    "version": 3
   },
   "file_extension": ".py",
   "mimetype": "text/x-python",
   "name": "python",
   "nbconvert_exporter": "python",
   "pygments_lexer": "ipython3",
   "version": "3.7.4"
  }
 },
 "nbformat": 4,
 "nbformat_minor": 5
}
